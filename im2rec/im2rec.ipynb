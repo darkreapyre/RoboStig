{
 "cells": [
  {
   "cell_type": "markdown",
   "metadata": {},
   "source": [
    "# Overview\n",
    "This notebook details how to convert the [sample dataset](https://d17h27t6h515a5.cloudfront.net/topher/2016/December/584f6edd_data/data.zip) to `.rec` format."
   ]
  },
  {
   "cell_type": "code",
   "execution_count": null,
   "metadata": {},
   "outputs": [],
   "source": [
    "# Install sklearn if not already installed\n",
    "#!pip install sklearn"
   ]
  },
  {
   "cell_type": "markdown",
   "metadata": {},
   "source": [
    "---\n",
    "# Download and Preprocess the Data\n",
    "## Load Python Libraries"
   ]
  },
  {
   "cell_type": "code",
   "execution_count": null,
   "metadata": {},
   "outputs": [],
   "source": [
    "# Suggested Libraries for conda_mxnet\n",
    "import warnings\n",
    "import zipfile\n",
    "import os\n",
    "import sys\n",
    "import cv2\n",
    "import time\n",
    "import random\n",
    "import argparse\n",
    "import traceback\n",
    "import urllib.request\n",
    "import matplotlib.image as mpimg\n",
    "import pandas as pd\n",
    "import numpy as np\n",
    "import mxnet as mx\n",
    "from sklearn.model_selection import train_test_split\n",
    "warnings.simplefilter('ignore')\n",
    "\n",
    "def download(url):\n",
    "    filename = url.split(\"/\")[-1]\n",
    "    if not os.path.exists(filename):\n",
    "        urllib.request.urlretrieve(url, filename)\n",
    "    return filename\n",
    "\n",
    "try:\n",
    "    import multiprocessing\n",
    "except ImportError:\n",
    "    multiprocessing = None"
   ]
  },
  {
   "cell_type": "markdown",
   "metadata": {},
   "source": [
    "## Download data and necessary tools"
   ]
  },
  {
   "cell_type": "code",
   "execution_count": null,
   "metadata": {},
   "outputs": [],
   "source": [
    "# Tool for creating lst file\n",
    "download('https://raw.githubusercontent.com/apache/incubator-mxnet/master/tools/im2rec.py')\n",
    "\n",
    "# Download and extract Sample Data\n",
    "file = download('https://d17h27t6h515a5.cloudfront.net/topher/2016/December/584f6edd_data/data.zip')\n",
    "with zipfile.ZipFile(file) as zf:\n",
    "    zf.extractall()"
   ]
  },
  {
   "cell_type": "markdown",
   "metadata": {},
   "source": [
    "## Preprocess images through the augmentation pipeline"
   ]
  },
  {
   "cell_type": "code",
   "execution_count": null,
   "metadata": {},
   "outputs": [],
   "source": [
    "# Index dataframe\n",
    "data_df = pd.read_csv('./data/driving_log.csv')"
   ]
  },
  {
   "cell_type": "code",
   "execution_count": null,
   "metadata": {},
   "outputs": [],
   "source": [
    "# Separate the features\n",
    "X = data_df[['center', 'left', 'right']].values\n",
    "y = data_df['steering'].values"
   ]
  },
  {
   "cell_type": "code",
   "execution_count": null,
   "metadata": {},
   "outputs": [],
   "source": [
    "HEIGHT, WIDTH, CHANNELS = 66, 200, 3\n",
    "INPUT_SHAPE = (HEIGHT, WIDTH, CHANNELS)\n",
    "\n",
    "# Image Transofmrations\n",
    "def crop(image):\n",
    "    \"\"\"\n",
    "    Crop the image (removing the sky at the top and the car front at the bottom)\n",
    "    \"\"\"\n",
    "    return image[60:-25, :, :] # remove the sky and the car front\n",
    "\n",
    "def resize(image):\n",
    "    \"\"\"\n",
    "    Resize the image to the input shape used by the network model\n",
    "    \"\"\"\n",
    "    return cv2.resize(image, (WIDTH, HEIGHT), cv2.INTER_AREA)\n",
    "\n",
    "def rgb2yuv(image):\n",
    "    \"\"\"\n",
    "    Convert the image from RGB to YUV\n",
    "    \"\"\"\n",
    "    return cv2.cvtColor(image, cv2.COLOR_RGB2YUV)\n",
    "\n",
    "# Randomly Flip image Left/Right\n",
    "def flip(image, steering_angle):\n",
    "    \"\"\"\n",
    "    Randomly flit the image left <-> right, and adjust the steering angle.\n",
    "    \"\"\"\n",
    "    if np.random.rand() < 0.5:\n",
    "        image = cv2.flip(image, 1)\n",
    "        steering_angle = -steering_angle\n",
    "    return image, steering_angle\n",
    "\n",
    "# Randomly Translate Vertically and Horizontally\n",
    "def translate(image, steering_angle, range_x, range_y):\n",
    "    \"\"\"\n",
    "    Randomly shift the image virtially and horizontally (translation).\n",
    "    \"\"\"\n",
    "    trans_x = range_x * (np.random.rand() - 0.5)\n",
    "    trans_y = range_y * (np.random.rand() - 0.5)\n",
    "    steering_angle += trans_x * 0.002\n",
    "    trans_m = np.float32([[1, 0, trans_x], [0, 1, trans_y]])\n",
    "    height, width = image.shape[:2]\n",
    "    image = cv2.warpAffine(image, trans_m, (width, height))\n",
    "    return image, steering_angle\n",
    "\n",
    "def distort(image):\n",
    "    ''' \n",
    "    method for adding random distortion to dataset images, including random brightness adjust, and a random\n",
    "    vertical shift of the horizon position\n",
    "    '''\n",
    "    new_img = image.astype(float)\n",
    "    # random brightness - the mask bit keeps values from going beyond (0,255)\n",
    "    value = np.random.randint(-28, 28)\n",
    "    if value > 0:\n",
    "        mask = (new_img[:,:,0] + value) > 255 \n",
    "    if value <= 0:\n",
    "        mask = (new_img[:,:,0] + value) < 0\n",
    "    new_img[:,:,0] += np.where(mask, 0, value)\n",
    "    # random shadow - full height, random left/right side, random darkening\n",
    "    h,w = new_img.shape[0:2]\n",
    "    mid = np.random.randint(0,w)\n",
    "    factor = np.random.uniform(0.6,0.8)\n",
    "    if np.random.rand() > .5:\n",
    "        new_img[:,0:mid,0] *= factor\n",
    "    else:\n",
    "        new_img[:,mid:w,0] *= factor\n",
    "    # randomly shift horizon\n",
    "    h,w,_ = new_img.shape\n",
    "    horizon = 2*h/5\n",
    "    v_shift = np.random.randint(-h/8,h/8)\n",
    "    pts1 = np.float32([[0,horizon],[w,horizon],[0,h],[w,h]])\n",
    "    pts2 = np.float32([[0,horizon+v_shift],[w,horizon+v_shift],[0,h],[w,h]])\n",
    "    M = cv2.getPerspectiveTransform(pts1,pts2)\n",
    "    new_img = cv2.warpPerspective(new_img,M,(w,h), borderMode=cv2.BORDER_REPLICATE)\n",
    "    return new_img.astype(np.uint8)\n",
    "\n",
    "# Radomly Adjust Brightness\n",
    "def brightness(image):\n",
    "    \"\"\"\n",
    "    Randomly adjust brightness of the image.\n",
    "    \"\"\"\n",
    "    # HSV (Hue, Saturation, Value) is also called HSB ('B' for Brightness).\n",
    "    hsv = cv2.cvtColor(image, cv2.COLOR_RGB2HSV)\n",
    "    ratio = 1.0 + 0.4 * (np.random.rand() - 0.5)\n",
    "    hsv[:,:,2] =  hsv[:,:,2] * ratio\n",
    "    return cv2.cvtColor(hsv, cv2.COLOR_HSV2RGB)\n",
    "\n",
    "def load(data_dir, image_file):\n",
    "    \"\"\"\n",
    "    Load RGB images from a file\n",
    "    \"\"\"\n",
    "    return mpimg.imread(os.path.join(data_dir, image_file.strip()))\n",
    "\n",
    "def choose(data_dir, center, left, right, steering_angle):\n",
    "    \"\"\"\n",
    "    Randomly choose an image from the center, left or right, and adjust\n",
    "    the steering angle.\n",
    "    \"\"\"\n",
    "    choice = np.random.choice(3)\n",
    "    if choice == 0:\n",
    "        return load(data_dir, left), steering_angle + 0.2\n",
    "    elif choice == 1:\n",
    "        return load(data_dir, right), steering_angle - 0.2\n",
    "    return load(data_dir, center), steering_angle\n",
    "\n",
    "def transform(image):\n",
    "    \"\"\"\n",
    "    Combine all preprocess functions into one\n",
    "    \"\"\"\n",
    "    image = crop(image)\n",
    "    image = resize(image)\n",
    "    image = rgb2yuv(image)\n",
    "    return image\n",
    "\n",
    "def augument(data_dir, center, left, right, steering_angle, range_x=100, range_y=10):\n",
    "    \"\"\"\n",
    "    Generate an augumented image and adjust steering angle.\n",
    "    (The steering angle is associated with the center image)\n",
    "    \"\"\"\n",
    "    image, steering_angle = choose(data_dir, center, left, right, steering_angle)\n",
    "    image, steering_angle = flip(image, steering_angle)\n",
    "    image, steering_angle = translate(image, steering_angle, range_x, range_y)\n",
    "    image = brightness(image)\n",
    "    image = distort(image)\n",
    "    return image, steering_angle\n",
    "\n",
    "def aug_pipeline(data_dir, image_paths, steering_angles, batch_size, is_training):\n",
    "    \"\"\"\n",
    "    Generate training image give image paths and associated steering angles\n",
    "    \"\"\"\n",
    "    images = np.empty([batch_size, HEIGHT, WIDTH, CHANNELS])\n",
    "    steering = np.empty(batch_size)\n",
    "    while True:\n",
    "        i = 0\n",
    "        for index in np.random.permutation(image_paths.shape[0]):\n",
    "            center, left, right = image_paths[index]\n",
    "            steering_angle = steering_angles[index]\n",
    "            # argumentation\n",
    "            if is_training and np.random.rand() < 0.9:\n",
    "                image, steering_angle = augument(data_dir, center, left, right, steering_angle)\n",
    "            else:\n",
    "                image = load(data_dir, center) \n",
    "            # add the image and steering angle to the batch\n",
    "            images[i] = transform(image)\n",
    "            steering[i] = steering_angle\n",
    "            i += 1\n",
    "            if i == batch_size:\n",
    "                break\n",
    "        return np.array(images).astype(np.float32), np.array(steering).astype(np.float32)"
   ]
  },
  {
   "cell_type": "code",
   "execution_count": null,
   "metadata": {},
   "outputs": [],
   "source": [
    "# Create preprocessed X and y\n",
    "new_X, new_y = aug_pipeline('data', X, y, len(X), True)"
   ]
  },
  {
   "cell_type": "markdown",
   "metadata": {},
   "source": [
    "## Split the data into Training and Validation dataset"
   ]
  },
  {
   "cell_type": "code",
   "execution_count": null,
   "metadata": {},
   "outputs": [],
   "source": [
    "# Create Training and Validation datasets\n",
    "X_train, X_valid, y_train, y_valid = train_test_split(new_X, new_y, test_size=0.1, random_state=42)"
   ]
  },
  {
   "cell_type": "markdown",
   "metadata": {},
   "source": [
    "## Create the image list file"
   ]
  },
  {
   "cell_type": "code",
   "execution_count": null,
   "metadata": {},
   "outputs": [],
   "source": [
    "# Build the make_list function\n",
    "def make_lst(data, label, name):\n",
    "    # Create local repository for the images based on name\n",
    "    if not os.path.exists('./'+name):\n",
    "        os.mkdir('./'+name)\n",
    "        \n",
    "    # Create the lst file\n",
    "    lst_file = './'+name+'.lst'\n",
    "    \n",
    "    # Iterate through the numpy arrays and save as `.jpg`\n",
    "    # and update the index file\n",
    "    for i in range(len(data)):\n",
    "        img = data[i]\n",
    "        img_name = name+'/'+str(i)+'.jpg'\n",
    "        imsave(img_name, img)\n",
    "        with open(lst_file, 'a') as f:\n",
    "            f.write(\"{}\\t{}\\t{}\\n\".format(str(i), str(label[i]), img_name))\n",
    "            f.flush()\n",
    "            f.close()"
   ]
  },
  {
   "cell_type": "code",
   "execution_count": null,
   "metadata": {},
   "outputs": [],
   "source": [
    "# Create `train.lst`\n",
    "make_lst(X_train, y_train, name='train')"
   ]
  },
  {
   "cell_type": "code",
   "execution_count": null,
   "metadata": {},
   "outputs": [],
   "source": [
    "# Create `valid.lst`\n",
    "make_lst(X_valid, y_valid, name='valid')"
   ]
  },
  {
   "cell_type": "markdown",
   "metadata": {},
   "source": [
    "## Create the RecordIO binary file"
   ]
  },
  {
   "cell_type": "code",
   "execution_count": null,
   "metadata": {},
   "outputs": [],
   "source": [
    "%%bash\n",
    "# Convert training and validation images to `.rec`\n",
    "python im2rec.py ./train.lst ./ --quality 100 --pass-through\n",
    "python im2rec.py ./valid.lst ./ --quality 100 --passt-hrough"
   ]
  }
 ],
 "metadata": {
  "kernelspec": {
   "display_name": "Environment (conda_mxnet_p36)",
   "language": "python",
   "name": "conda_mxnet_p36"
  },
  "language_info": {
   "codemirror_mode": {
    "name": "ipython",
    "version": 3
   },
   "file_extension": ".py",
   "mimetype": "text/x-python",
   "name": "python",
   "nbconvert_exporter": "python",
   "pygments_lexer": "ipython3",
   "version": "3.6.4"
  }
 },
 "nbformat": 4,
 "nbformat_minor": 2
}
