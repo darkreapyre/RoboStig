{
 "cells": [
  {
   "cell_type": "markdown",
   "metadata": {},
   "source": [
    "# SageMaker Bring Your Own Model - NVIDIA Model\n",
    "__Blah blah blah__  "
   ]
  },
  {
   "cell_type": "markdown",
   "metadata": {},
   "source": [
    "## Building and Training the SageMaker Estimator\n",
    "__Blah blah blah; Estimator should alredy be built `model.py`__"
   ]
  },
  {
   "cell_type": "markdown",
   "metadata": {},
   "source": [
    "## Training in SageMaker\n",
    "__blah blah blah; SageMaker is cool in that it automatically detects GPU's and distributed training etc.__"
   ]
  },
  {
   "cell_type": "code",
   "execution_count": 1,
   "metadata": {},
   "outputs": [],
   "source": [
    "# Configure SageMaker\n",
    "import boto3\n",
    "import sagemaker\n",
    "import warnings\n",
    "from sagemaker.mxnet import MXNet\n",
    "warnings.simplefilter('ignore')\n",
    "\n",
    "sagemaker_session = sagemaker.Session()\n",
    "role = sagemaker.get_execution_role()"
   ]
  },
  {
   "cell_type": "markdown",
   "metadata": {},
   "source": [
    "__blah blah blah__\n",
    "\n",
    "<details><summary><b>Note to self</b></summary><p>\n",
    "    1. Explain that this is data created in modle 1 that's already saved as numpy arrays.  \n",
    "    2. Explain the benefits oof SageMaker's training capability to run notebook on CPU instanmce and training on GPU.\n",
    "    </p>\n",
    "</details>"
   ]
  },
  {
   "cell_type": "code",
   "execution_count": 2,
   "metadata": {},
   "outputs": [
    {
     "name": "stdout",
     "output_type": "stream",
     "text": [
      "S3 Bucket Name: sagemaker-us-west-2-722812380636\n"
     ]
    }
   ],
   "source": [
    "# Upload the Training and Testing Data to S3\n",
    "input_data = sagemaker_session.upload_data(path='/tmp/data', key_prefix='input_data')\n",
    "bucket = input_data.split('/')[2]\n",
    "print(\"S3 Bucket Name: {}\".format(bucket))"
   ]
  },
  {
   "cell_type": "code",
   "execution_count": 3,
   "metadata": {},
   "outputs": [
    {
     "name": "stderr",
     "output_type": "stream",
     "text": [
      "INFO:sagemaker:Creating training-job with name: sagemaker-mxnet-2018-07-17-19-55-08-798\n"
     ]
    },
    {
     "name": "stdout",
     "output_type": "stream",
     "text": [
      "........................\n",
      "\u001b[31m2018-07-17 19:59:02,484 INFO - root - running container entrypoint\u001b[0m\n",
      "\u001b[31m2018-07-17 19:59:02,485 INFO - root - starting train task\u001b[0m\n",
      "\u001b[31m2018-07-17 19:59:02,504 INFO - container_support.training - Training starting\u001b[0m\n",
      "\u001b[31m2018-07-17 19:59:05,009 INFO - mxnet_container.train - MXNetTrainingEnvironment: {'enable_cloudwatch_metrics': False, 'available_gpus': 1, 'channels': {u'training': {u'TrainingInputMode': u'File', u'RecordWrapperType': u'None', u'S3DistributionType': u'FullyReplicated'}}, '_ps_verbose': 0, 'resource_config': {u'current_host': u'algo-1', u'network_interface_name': u'ethwe', u'hosts': [u'algo-1']}, 'user_script_name': u'model.py', 'input_config_dir': '/opt/ml/input/config', 'channel_dirs': {u'training': u'/opt/ml/input/data/training'}, 'code_dir': '/opt/ml/code', 'output_data_dir': '/opt/ml/output/data/', 'output_dir': '/opt/ml/output', 'model_dir': '/opt/ml/model', 'hyperparameters': {u'sagemaker_program': u'model.py', u'learning_rate': 1.0, u'batch_size': 16, u'epochs': 12, u'optmizer': u'adam', u'sagemaker_submit_directory': u's3://sagemaker-us-west-2-722812380636/sagemaker-mxnet-2018-07-17-19-55-08-798/source/sourcedir.tar.gz', u'sagemaker_region': u'us-west-2', u'sagemaker_enable_cloudwatch_metrics': False, u'sagemaker_job_name': u'sagemaker-mxnet-2018-07-17-19-55-08-798', u'sagemaker_container_log_level': 20}, 'hosts': [u'algo-1'], 'job_name': 'sagemaker-mxnet-2018-07-17-19-55-08-798', '_ps_port': 8000, 'user_script_archive': u's3://sagemaker-us-west-2-722812380636/sagemaker-mxnet-2018-07-17-19-55-08-798/source/sourcedir.tar.gz', '_scheduler_host': u'algo-1', 'sagemaker_region': u'us-west-2', '_scheduler_ip': '10.32.0.4', 'input_dir': '/opt/ml/input', 'user_requirements_file': None, 'current_host': u'algo-1', 'container_log_level': 20, 'available_cpus': 8, 'base_dir': '/opt/ml'}\u001b[0m\n",
      "\u001b[31mDownloading s3://sagemaker-us-west-2-722812380636/sagemaker-mxnet-2018-07-17-19-55-08-798/source/sourcedir.tar.gz to /tmp/script.tar.gz\u001b[0m\n",
      "\u001b[31m2018-07-17 19:59:05,115 INFO - botocore.vendored.requests.packages.urllib3.connectionpool - Starting new HTTP connection (1): 169.254.170.2\u001b[0m\n",
      "\u001b[31m2018-07-17 19:59:05,231 INFO - botocore.vendored.requests.packages.urllib3.connectionpool - Starting new HTTPS connection (1): sagemaker-us-west-2-722812380636.s3.amazonaws.com\u001b[0m\n",
      "\u001b[31m2018-07-17 19:59:05,317 INFO - botocore.vendored.requests.packages.urllib3.connectionpool - Starting new HTTPS connection (2): sagemaker-us-west-2-722812380636.s3.amazonaws.com\u001b[0m\n",
      "\u001b[31m2018-07-17 19:59:05,330 INFO - botocore.vendored.requests.packages.urllib3.connectionpool - Starting new HTTPS connection (1): sagemaker-us-west-2-722812380636.s3.us-west-2.amazonaws.com\u001b[0m\n",
      "\u001b[31m2018-07-17 19:59:05,417 INFO - botocore.vendored.requests.packages.urllib3.connectionpool - Starting new HTTPS connection (2): sagemaker-us-west-2-722812380636.s3.us-west-2.amazonaws.com\u001b[0m\n",
      "\u001b[31m2018-07-17 19:59:05,553 INFO - mxnet_container.train - Starting distributed training task\u001b[0m\n",
      "\u001b[31m[19:59:14] src/operator/nn/./cudnn/./cudnn_algoreg-inl.h:107: Running performance tests to find the best convolution algorithm, this can take a while... (setting env variable MXNET_CUDNN_AUTOTUNE_DEFAULT to 0 to disable)\u001b[0m\n",
      "\u001b[31mEpoch 0: loss: 9.14293222254e+33 - val_loss: 3.85943625434e+33\u001b[0m\n",
      "\u001b[31mEpoch 1: loss: 9.14293222138e+33 - val_loss: 3.85943625434e+33\u001b[0m\n",
      "\u001b[31mEpoch 2: loss: 9.14293222143e+33 - val_loss: 3.8594362555e+33\u001b[0m\n",
      "\u001b[31mEpoch 3: loss: 9.14293222194e+33 - val_loss: 3.8594362555e+33\u001b[0m\n",
      "\u001b[31mEpoch 4: loss: 9.1429322219e+33 - val_loss: 3.85943625858e+33\u001b[0m\n",
      "\u001b[31mEpoch 5: loss: 9.14293222164e+33 - val_loss: 3.85943625742e+33\u001b[0m\n",
      "\u001b[31mEpoch 6: loss: 9.1429322225e+33 - val_loss: 3.85943625473e+33\u001b[0m\n",
      "\u001b[31mEpoch 7: loss: 9.14293222318e+33 - val_loss: 3.85943625473e+33\u001b[0m\n",
      "\u001b[31mEpoch 8: loss: 9.14293222361e+33 - val_loss: 3.85943625396e+33\u001b[0m\n",
      "\u001b[31mEpoch 9: loss: 9.14293222511e+33 - val_loss: 3.85943626108e+33\u001b[0m\n",
      "\u001b[31mEpoch 10: loss: 9.14293222562e+33 - val_loss: 3.85943626146e+33\u001b[0m\n",
      "\u001b[31mEpoch 11: loss: 9.14293222596e+33 - val_loss: 3.85943626223e+33\u001b[0m\n",
      "\u001b[31mSaving the trained model ...\u001b[0m\n",
      "===== Job Complete =====\n",
      "Billable seconds: 229\n"
     ]
    }
   ],
   "source": [
    "# Create a MXNet Estimator\n",
    "mxnet_estimator = MXNet(\n",
    "    'model.py',\n",
    "    role=role,\n",
    "    train_instance_count=1,\n",
    "    train_instance_type='ml.p3.2xlarge',\n",
    "    output_path='s3://' + bucket,\n",
    "    hyperparameters={\n",
    "        'epochs': 12,\n",
    "        'optmizer': 'adam',\n",
    "        'learning_rate': 1.,\n",
    "        'batch_size': 16\n",
    "    }\n",
    ")\n",
    "\n",
    "# Run the Estimator\n",
    "mxnet_estimator.fit(input_data)"
   ]
  },
  {
   "cell_type": "markdown",
   "metadata": {},
   "source": [
    "---\n",
    "# Next Step: Hyperparameter Tuning in SageMaker\n",
    "[Module 3](../3_SageMakerHPO/README.md)"
   ]
  }
 ],
 "metadata": {
  "kernelspec": {
   "display_name": "conda_mxnet_p36",
   "language": "python",
   "name": "conda_mxnet_p36"
  },
  "language_info": {
   "codemirror_mode": {
    "name": "ipython",
    "version": 3
   },
   "file_extension": ".py",
   "mimetype": "text/x-python",
   "name": "python",
   "nbconvert_exporter": "python",
   "pygments_lexer": "ipython3",
   "version": "3.6.4"
  }
 },
 "nbformat": 4,
 "nbformat_minor": 2
}
