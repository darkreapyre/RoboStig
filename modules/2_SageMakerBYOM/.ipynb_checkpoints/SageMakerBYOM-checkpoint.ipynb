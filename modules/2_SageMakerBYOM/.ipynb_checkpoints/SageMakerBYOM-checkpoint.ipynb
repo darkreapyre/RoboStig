{
 "cells": [
  {
   "cell_type": "markdown",
   "metadata": {},
   "source": [
    "# SageMaker Bring Your Own Model - NVIDIA Model\n",
    "__Blah blah blah__  "
   ]
  },
  {
   "cell_type": "markdown",
   "metadata": {},
   "source": [
    "## Building and Training the SageMaker Estimator\n",
    "__Blah blah blah; Estimator should alredy be built `model.py`__"
   ]
  },
  {
   "cell_type": "markdown",
   "metadata": {},
   "source": [
    "## Training in SageMaker\n",
    "__blah blah blah; SageMaker is cool in that it automatically detects GPU's and distributed training etc.__"
   ]
  },
  {
   "cell_type": "code",
   "execution_count": null,
   "metadata": {},
   "outputs": [],
   "source": [
    "# Configure SageMaker\n",
    "import boto3\n",
    "import sagemaker\n",
    "import warnings\n",
    "from sagemaker.mxnet import MXNet\n",
    "warnings.simplefilter('ignore')\n",
    "\n",
    "sagemaker_session = sagemaker.Session()\n",
    "role = sagemaker.get_execution_role()"
   ]
  },
  {
   "cell_type": "markdown",
   "metadata": {},
   "source": [
    "__blah blah blah; Data created in modeil 0 that's already saved as numpy arrays__"
   ]
  },
  {
   "cell_type": "code",
   "execution_count": null,
   "metadata": {},
   "outputs": [],
   "source": [
    "# Upload the Training and Testing Data to S3\n",
    "input_data = sagemaker_session.upload_data(path='/tmp/data', key_prefix='input_data')\n",
    "bucket = input_data.split('/')[2]\n",
    "print(\"S3 Bucket Name: {}\".format(bucket))"
   ]
  },
  {
   "cell_type": "code",
   "execution_count": null,
   "metadata": {},
   "outputs": [],
   "source": [
    "# Create a MXNet Estimator\n",
    "mxnet_estimator = MXNet(\n",
    "    'model.py',\n",
    "    role=role,\n",
    "    train_instance_count=1,\n",
    "    train_instance_type='ml.p3.8xlarge',\n",
    "    output_path='s3://'+bucket,\n",
    "    hyperparameters={\n",
    "        'epochs': 12,\n",
    "        'optmizer': 'adam',\n",
    "        'learning_rate': 0.001,\n",
    "        'batch_size': 64\n",
    "    }\n",
    ")\n",
    "\n",
    "# Run the Estimator\n",
    "mxnet_estimator.fit(input_data)"
   ]
  },
  {
   "cell_type": "markdown",
   "metadata": {},
   "source": [
    "---\n",
    "# Next Step: Hyperparameter Tuning in SageMaker\n",
    "[Module 3](../3_SageMakerHPO/README.md)"
   ]
  }
 ],
 "metadata": {
  "kernelspec": {
   "display_name": "conda_mxnet_p36",
   "language": "python",
   "name": "conda_mxnet_p36"
  },
  "language_info": {
   "codemirror_mode": {
    "name": "ipython",
    "version": 3
   },
   "file_extension": ".py",
   "mimetype": "text/x-python",
   "name": "python",
   "nbconvert_exporter": "python",
   "pygments_lexer": "ipython3",
   "version": "3.6.4"
  }
 },
 "nbformat": 4,
 "nbformat_minor": 2
}
