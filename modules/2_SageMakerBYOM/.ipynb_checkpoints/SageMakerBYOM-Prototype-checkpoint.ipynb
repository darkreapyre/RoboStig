{
 "cells": [
  {
   "cell_type": "markdown",
   "metadata": {},
   "source": [
    "# Train Your Wwn Model onSageMaker - Prototype\n",
    "\n",
    "## Building and Training the SageMaker Estimator\n",
    "<details><summary><b>Note to self</b></summary><p>\n",
    "    Estimator should alredy be built during _Module 2_, i.e.`model.py`\n",
    "    </p>\n",
    "</details>\n",
    "\n",
    "## Training in SageMaker\n",
    "<details><summary><b>Note to self</b></summary><p>\n",
    "    SageMaker is cool in that it automatically detects GPU's and distributed training etc.\n",
    "    </p>\n",
    "</details>"
   ]
  },
  {
   "cell_type": "code",
   "execution_count": 1,
   "metadata": {},
   "outputs": [],
   "source": [
    "# Configure SageMaker\n",
    "import boto3\n",
    "import sagemaker\n",
    "import warnings\n",
    "from sagemaker.mxnet import MXNet\n",
    "warnings.simplefilter('ignore')\n",
    "\n",
    "sagemaker_session = sagemaker.Session()\n",
    "role = sagemaker.get_execution_role()"
   ]
  },
  {
   "cell_type": "markdown",
   "metadata": {},
   "source": [
    "<details><summary><b>Note to self</b></summary><p>\n",
    "    1. Explain that this is data created in modle 1 that's already saved as numpy arrays.  \n",
    "    2. Explain the benefits oof SageMaker's training capability to run notebook on CPU instanmce and training on GPU.\n",
    "    </p>\n",
    "</details>"
   ]
  },
  {
   "cell_type": "code",
   "execution_count": 2,
   "metadata": {},
   "outputs": [
    {
     "name": "stderr",
     "output_type": "stream",
     "text": [
      "INFO:sagemaker:Created S3 bucket: sagemaker-us-west-2-722812380636\n"
     ]
    },
    {
     "name": "stdout",
     "output_type": "stream",
     "text": [
      "S3 Bucket Name: sagemaker-us-west-2-722812380636\n"
     ]
    }
   ],
   "source": [
    "# Upload the Training and Testing Data to S3\n",
    "input_data = sagemaker_session.upload_data(path='/tmp/data', key_prefix='input_data')\n",
    "bucket = input_data.split('/')[2]\n",
    "print(\"S3 Bucket Name: {}\".format(bucket))"
   ]
  },
  {
   "cell_type": "code",
   "execution_count": 3,
   "metadata": {},
   "outputs": [
    {
     "name": "stderr",
     "output_type": "stream",
     "text": [
      "INFO:sagemaker:Creating training-job with name: sagemaker-mxnet-2018-07-27-19-15-43-903\n"
     ]
    },
    {
     "name": "stdout",
     "output_type": "stream",
     "text": [
      "..........................\n",
      "\u001b[31m2018-07-27 19:19:48,394 INFO - root - running container entrypoint\u001b[0m\n",
      "\u001b[31m2018-07-27 19:19:48,394 INFO - root - starting train task\u001b[0m\n",
      "\u001b[31m2018-07-27 19:19:48,414 INFO - container_support.training - Training starting\u001b[0m\n",
      "\u001b[31m2018-07-27 19:19:50,743 INFO - mxnet_container.train - MXNetTrainingEnvironment: {'enable_cloudwatch_metrics': False, 'available_gpus': 1, 'channels': {u'training': {u'TrainingInputMode': u'File', u'RecordWrapperType': u'None', u'S3DistributionType': u'FullyReplicated'}}, '_ps_verbose': 0, 'resource_config': {u'hosts': [u'algo-1'], u'network_interface_name': u'ethwe', u'current_host': u'algo-1'}, 'user_script_name': u'model.py', 'input_config_dir': '/opt/ml/input/config', 'channel_dirs': {u'training': u'/opt/ml/input/data/training'}, 'code_dir': '/opt/ml/code', 'output_data_dir': '/opt/ml/output/data/', 'output_dir': '/opt/ml/output', 'model_dir': '/opt/ml/model', 'hyperparameters': {u'sagemaker_program': u'model.py', u'learning_rate': 0.1, u'batch_size': 256, u'epochs': 12, u'optmizer': u'adam', u'sagemaker_submit_directory': u's3://sagemaker-us-west-2-722812380636/sagemaker-mxnet-2018-07-27-19-15-43-903/source/sourcedir.tar.gz', u'sagemaker_region': u'us-west-2', u'sagemaker_enable_cloudwatch_metrics': False, u'sagemaker_job_name': u'sagemaker-mxnet-2018-07-27-19-15-43-903', u'sagemaker_container_log_level': 20}, 'hosts': [u'algo-1'], 'job_name': 'sagemaker-mxnet-2018-07-27-19-15-43-903', '_ps_port': 8000, 'user_script_archive': u's3://sagemaker-us-west-2-722812380636/sagemaker-mxnet-2018-07-27-19-15-43-903/source/sourcedir.tar.gz', '_scheduler_host': u'algo-1', 'sagemaker_region': u'us-west-2', '_scheduler_ip': '10.32.0.4', 'input_dir': '/opt/ml/input', 'user_requirements_file': None, 'current_host': u'algo-1', 'container_log_level': 20, 'available_cpus': 8, 'base_dir': '/opt/ml'}\u001b[0m\n",
      "\u001b[31mDownloading s3://sagemaker-us-west-2-722812380636/sagemaker-mxnet-2018-07-27-19-15-43-903/source/sourcedir.tar.gz to /tmp/script.tar.gz\u001b[0m\n",
      "\u001b[31m2018-07-27 19:19:50,845 INFO - botocore.vendored.requests.packages.urllib3.connectionpool - Starting new HTTP connection (1): 169.254.170.2\u001b[0m\n",
      "\u001b[31m2018-07-27 19:19:50,951 INFO - botocore.vendored.requests.packages.urllib3.connectionpool - Starting new HTTPS connection (1): sagemaker-us-west-2-722812380636.s3.amazonaws.com\u001b[0m\n",
      "\u001b[31m2018-07-27 19:19:51,332 INFO - botocore.vendored.requests.packages.urllib3.connectionpool - Starting new HTTPS connection (1): sagemaker-us-west-2-722812380636.s3-us-west-2.amazonaws.com\u001b[0m\n",
      "\u001b[31m2018-07-27 19:19:51,440 INFO - botocore.vendored.requests.packages.urllib3.connectionpool - Starting new HTTPS connection (2): sagemaker-us-west-2-722812380636.s3-us-west-2.amazonaws.com\u001b[0m\n",
      "\u001b[31m2018-07-27 19:19:51,457 INFO - botocore.vendored.requests.packages.urllib3.connectionpool - Starting new HTTPS connection (1): sagemaker-us-west-2-722812380636.s3.us-west-2.amazonaws.com\u001b[0m\n",
      "\u001b[31m2018-07-27 19:19:51,519 INFO - botocore.vendored.requests.packages.urllib3.connectionpool - Starting new HTTPS connection (2): sagemaker-us-west-2-722812380636.s3.us-west-2.amazonaws.com\u001b[0m\n",
      "\u001b[31m2018-07-27 19:19:51,624 INFO - mxnet_container.train - Starting distributed training task\u001b[0m\n",
      "\u001b[31m[19:20:00] src/operator/nn/./cudnn/./cudnn_algoreg-inl.h:107: Running performance tests to find the best convolution algorithm, this can take a while... (setting env variable MXNET_CUDNN_AUTOTUNE_DEFAULT to 0 to disable)\u001b[0m\n",
      "\u001b[31mEpoch 0: loss: 945701.905356 - val_loss: 945696.823772\u001b[0m\n",
      "\u001b[31mEpoch 1: loss: 0.0678677759664 - val_loss: 0.0411730490219\u001b[0m\n",
      "\u001b[31mEpoch 2: loss: 0.0680104453418 - val_loss: 0.041318104458\u001b[0m\n",
      "\u001b[31mEpoch 3: loss: 0.0680185674603 - val_loss: 0.0413263617504\u001b[0m\n",
      "\u001b[31mEpoch 4: loss: 0.0680190112541 - val_loss: 0.0413268130595\u001b[0m\n",
      "\u001b[31mEpoch 5: loss: 0.0680190112541 - val_loss: 0.0413268130595\u001b[0m\n",
      "\u001b[31mEpoch 6: loss: 0.0680190112541 - val_loss: 0.0413268130595\u001b[0m\n",
      "\u001b[31mEpoch 7: loss: 0.0680190112541 - val_loss: 0.0413268130595\u001b[0m\n",
      "\u001b[31mEpoch 8: loss: 0.0680190112541 - val_loss: 0.0413268130595\u001b[0m\n",
      "\u001b[31mEpoch 9: loss: 0.0680190112541 - val_loss: 0.0413268130595\u001b[0m\n",
      "\u001b[31mEpoch 10: loss: 0.0680190112541 - val_loss: 0.0413268130595\u001b[0m\n",
      "\u001b[31mEpoch 11: loss: 0.0680190112541 - val_loss: 0.0413268130595\u001b[0m\n",
      "===== Job Complete =====\n",
      "Billable seconds: 215\n"
     ]
    }
   ],
   "source": [
    "# Create a MXNet Estimator\n",
    "mxnet_estimator = MXNet(\n",
    "    'model.py',\n",
    "    role=role,\n",
    "    train_instance_count=1,\n",
    "    train_instance_type='ml.p3.2xlarge',\n",
    "    output_path='s3://' + bucket,\n",
    "    hyperparameters={\n",
    "        'epochs': 12,\n",
    "        'optmizer': 'adam',\n",
    "        'learning_rate': .1,\n",
    "        'batch_size': 256\n",
    "    }\n",
    ")\n",
    "\n",
    "# Run the Estimator\n",
    "mxnet_estimator.fit(input_data)"
   ]
  },
  {
   "cell_type": "markdown",
   "metadata": {},
   "source": [
    "---\n",
    "# Next Step: Hyperparameter Tuning in SageMaker\n",
    "\n",
    "\n",
    "[Module 3](../3_SageMakerHPO/README.md)\n",
    "\n",
    "<div class=\"alert alert-danger\">\n",
    "<strong>Please Note: </strong>Make sure to record the name of the __sageMaker training-job__ shown from the output of the model training code cell. This training job will be used in __Module 3__ for hyperparameter tuning.\n",
    "</div>"
   ]
  }
 ],
 "metadata": {
  "kernelspec": {
   "display_name": "conda_mxnet_p36",
   "language": "python",
   "name": "conda_mxnet_p36"
  },
  "language_info": {
   "codemirror_mode": {
    "name": "ipython",
    "version": 3
   },
   "file_extension": ".py",
   "mimetype": "text/x-python",
   "name": "python",
   "nbconvert_exporter": "python",
   "pygments_lexer": "ipython3",
   "version": "3.6.4"
  }
 },
 "nbformat": 4,
 "nbformat_minor": 2
}
