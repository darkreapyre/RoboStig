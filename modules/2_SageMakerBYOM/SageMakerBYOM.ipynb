{
 "cells": [
  {
   "cell_type": "markdown",
   "metadata": {},
   "source": [
    "# SageMaker Bring Your Own Model - NVIDIA Model\n",
    "__Blah blah blah__  "
   ]
  },
  {
   "cell_type": "markdown",
   "metadata": {},
   "source": [
    "## Building and Training the SageMaker Estimator\n",
    "__Blah blah blah; Estimator should alredy be built `model.py`__"
   ]
  },
  {
   "cell_type": "markdown",
   "metadata": {},
   "source": [
    "## Training in SageMaker\n",
    "__blah blah blah; SageMaker is cool in that it automatically detects GPU's and distributed training etc.__"
   ]
  },
  {
   "cell_type": "code",
   "execution_count": 1,
   "metadata": {},
   "outputs": [],
   "source": [
    "# Configure SageMaker\n",
    "import boto3\n",
    "import sagemaker\n",
    "import warnings\n",
    "from sagemaker.mxnet import MXNet\n",
    "warnings.simplefilter('ignore')\n",
    "\n",
    "sagemaker_session = sagemaker.Session()\n",
    "role = sagemaker.get_execution_role()"
   ]
  },
  {
   "cell_type": "markdown",
   "metadata": {},
   "source": [
    "__blah blah blah__\n",
    "\n",
    "<details><summary><b>Note to self</b></summary><p>\n",
    "    1. Explain that this is data created in modle 1 that's already saved as numpy arrays.  \n",
    "    2. Explain the benefits oof SageMaker's training capability to run notebook on CPU instanmce and training on GPU.\n",
    "    </p>\n",
    "</details>"
   ]
  },
  {
   "cell_type": "code",
   "execution_count": 2,
   "metadata": {},
   "outputs": [
    {
     "name": "stdout",
     "output_type": "stream",
     "text": [
      "S3 Bucket Name: sagemaker-us-west-2-722812380636\n"
     ]
    }
   ],
   "source": [
    "# Upload the Training and Testing Data to S3\n",
    "input_data = sagemaker_session.upload_data(path='/tmp/data', key_prefix='input_data')\n",
    "bucket = input_data.split('/')[2]\n",
    "print(\"S3 Bucket Name: {}\".format(bucket))"
   ]
  },
  {
   "cell_type": "code",
   "execution_count": 7,
   "metadata": {},
   "outputs": [
    {
     "name": "stderr",
     "output_type": "stream",
     "text": [
      "INFO:sagemaker:Creating training-job with name: sagemaker-mxnet-2018-07-17-20-39-59-823\n"
     ]
    },
    {
     "name": "stdout",
     "output_type": "stream",
     "text": [
      ".........................\n",
      "\u001b[31m2018-07-17 20:43:55,165 INFO - root - running container entrypoint\u001b[0m\n",
      "\u001b[31m2018-07-17 20:43:55,166 INFO - root - starting train task\u001b[0m\n",
      "\u001b[31m2018-07-17 20:43:55,186 INFO - container_support.training - Training starting\u001b[0m\n",
      "\u001b[31m2018-07-17 20:43:59,101 INFO - mxnet_container.train - MXNetTrainingEnvironment: {'enable_cloudwatch_metrics': False, 'available_gpus': 1, 'channels': {u'training': {u'TrainingInputMode': u'File', u'RecordWrapperType': u'None', u'S3DistributionType': u'FullyReplicated'}}, '_ps_verbose': 0, 'resource_config': {u'current_host': u'algo-1', u'network_interface_name': u'ethwe', u'hosts': [u'algo-1']}, 'user_script_name': u'model.py', 'input_config_dir': '/opt/ml/input/config', 'channel_dirs': {u'training': u'/opt/ml/input/data/training'}, 'code_dir': '/opt/ml/code', 'output_data_dir': '/opt/ml/output/data/', 'output_dir': '/opt/ml/output', 'model_dir': '/opt/ml/model', 'hyperparameters': {u'sagemaker_program': u'model.py', u'learning_rate': 0.1, u'batch_size': 16, u'epochs': 12, u'optmizer': u'adam', u'sagemaker_submit_directory': u's3://sagemaker-us-west-2-722812380636/sagemaker-mxnet-2018-07-17-20-39-59-823/source/sourcedir.tar.gz', u'sagemaker_region': u'us-west-2', u'sagemaker_enable_cloudwatch_metrics': False, u'sagemaker_job_name': u'sagemaker-mxnet-2018-07-17-20-39-59-823', u'sagemaker_container_log_level': 20}, 'hosts': [u'algo-1'], 'job_name': 'sagemaker-mxnet-2018-07-17-20-39-59-823', '_ps_port': 8000, 'user_script_archive': u's3://sagemaker-us-west-2-722812380636/sagemaker-mxnet-2018-07-17-20-39-59-823/source/sourcedir.tar.gz', '_scheduler_host': u'algo-1', 'sagemaker_region': u'us-west-2', '_scheduler_ip': '10.32.0.4', 'input_dir': '/opt/ml/input', 'user_requirements_file': None, 'current_host': u'algo-1', 'container_log_level': 20, 'available_cpus': 8, 'base_dir': '/opt/ml'}\u001b[0m\n",
      "\u001b[31mDownloading s3://sagemaker-us-west-2-722812380636/sagemaker-mxnet-2018-07-17-20-39-59-823/source/sourcedir.tar.gz to /tmp/script.tar.gz\u001b[0m\n",
      "\u001b[31m2018-07-17 20:43:59,241 INFO - botocore.vendored.requests.packages.urllib3.connectionpool - Starting new HTTP connection (1): 169.254.170.2\u001b[0m\n",
      "\u001b[31m2018-07-17 20:43:59,343 INFO - botocore.vendored.requests.packages.urllib3.connectionpool - Starting new HTTPS connection (1): sagemaker-us-west-2-722812380636.s3.amazonaws.com\u001b[0m\n",
      "\u001b[31m2018-07-17 20:43:59,429 INFO - botocore.vendored.requests.packages.urllib3.connectionpool - Starting new HTTPS connection (2): sagemaker-us-west-2-722812380636.s3.amazonaws.com\u001b[0m\n",
      "\u001b[31m2018-07-17 20:43:59,445 INFO - botocore.vendored.requests.packages.urllib3.connectionpool - Starting new HTTPS connection (1): sagemaker-us-west-2-722812380636.s3.us-west-2.amazonaws.com\u001b[0m\n",
      "\u001b[31m2018-07-17 20:43:59,571 INFO - botocore.vendored.requests.packages.urllib3.connectionpool - Starting new HTTPS connection (2): sagemaker-us-west-2-722812380636.s3.us-west-2.amazonaws.com\u001b[0m\n",
      "\u001b[31m2018-07-17 20:43:59,666 INFO - mxnet_container.train - Starting distributed training task\u001b[0m\n",
      "\u001b[31m[20:44:08] src/operator/nn/./cudnn/./cudnn_algoreg-inl.h:107: Running performance tests to find the best convolution algorithm, this can take a while... (setting env variable MXNET_CUDNN_AUTOTUNE_DEFAULT to 0 to disable)\u001b[0m\n",
      "\u001b[31mEpoch 0: loss: 0.0429281138961 - val_loss: 0.0165762996379\u001b[0m\n",
      "\u001b[31mEpoch 1: loss: 0.0436345293213 - val_loss: 0.0172507680442\u001b[0m\n",
      "\u001b[31mEpoch 2: loss: 0.0434272295154 - val_loss: 0.0170505556241\u001b[0m\n",
      "\u001b[31mEpoch 3: loss: 0.0434148901992 - val_loss: 0.0171325551335\u001b[0m\n",
      "\u001b[31mEpoch 4: loss: 0.0427920498173 - val_loss: 0.0164686045463\u001b[0m\n",
      "\u001b[31mEpoch 5: loss: 0.0431669566853 - val_loss: 0.0168010754203\u001b[0m\n",
      "\u001b[31mEpoch 6: loss: 0.0441418262697 - val_loss: 0.0178813655573\u001b[0m\n",
      "\u001b[31mEpoch 7: loss: 0.0430728309757 - val_loss: 0.0167117419081\u001b[0m\n",
      "\u001b[31mEpoch 8: loss: 0.0430161111093 - val_loss: 0.0166582957347\u001b[0m\n",
      "\u001b[31mEpoch 9: loss: 0.0429507602028 - val_loss: 0.0165972590726\u001b[0m\n",
      "\u001b[31mEpoch 10: loss: 0.0433378878927 - val_loss: 0.0170526034541\u001b[0m\n",
      "\u001b[31mEpoch 11: loss: 0.0473381891004 - val_loss: 0.0208829386419\u001b[0m\n",
      "\u001b[31mSaving the trained model ...\u001b[0m\n",
      "===== Job Complete =====\n",
      "Billable seconds: 248\n"
     ]
    }
   ],
   "source": [
    "# Create a MXNet Estimator\n",
    "mxnet_estimator = MXNet(\n",
    "    'model.py',\n",
    "    role=role,\n",
    "    train_instance_count=1,\n",
    "    train_instance_type='ml.p3.2xlarge',\n",
    "    output_path='s3://' + bucket,\n",
    "    hyperparameters={\n",
    "        'epochs': 12,\n",
    "        'optmizer': 'adam',\n",
    "        'learning_rate': .1,\n",
    "        'batch_size': 16\n",
    "    }\n",
    ")\n",
    "\n",
    "# Run the Estimator\n",
    "mxnet_estimator.fit(input_data)"
   ]
  },
  {
   "cell_type": "code",
   "execution_count": 8,
   "metadata": {},
   "outputs": [
    {
     "name": "stderr",
     "output_type": "stream",
     "text": [
      "INFO:sagemaker:Creating training-job with name: sagemaker-mxnet-2018-07-17-20-46-02-659\n"
     ]
    },
    {
     "name": "stdout",
     "output_type": "stream",
     "text": [
      ".......................\n",
      "\u001b[31m2018-07-17 20:49:43,209 INFO - root - running container entrypoint\u001b[0m\n",
      "\u001b[31m2018-07-17 20:49:43,209 INFO - root - starting train task\u001b[0m\n",
      "\u001b[31m2018-07-17 20:49:43,228 INFO - container_support.training - Training starting\u001b[0m\n",
      "\u001b[31m2018-07-17 20:49:45,522 INFO - mxnet_container.train - MXNetTrainingEnvironment: {'enable_cloudwatch_metrics': False, 'available_gpus': 1, 'channels': {u'training': {u'TrainingInputMode': u'File', u'RecordWrapperType': u'None', u'S3DistributionType': u'FullyReplicated'}}, '_ps_verbose': 0, 'resource_config': {u'current_host': u'algo-1', u'network_interface_name': u'ethwe', u'hosts': [u'algo-1']}, 'user_script_name': u'model.py', 'input_config_dir': '/opt/ml/input/config', 'channel_dirs': {u'training': u'/opt/ml/input/data/training'}, 'code_dir': '/opt/ml/code', 'output_data_dir': '/opt/ml/output/data/', 'output_dir': '/opt/ml/output', 'model_dir': '/opt/ml/model', 'hyperparameters': {u'sagemaker_program': u'model.py', u'learning_rate': 0.1, u'batch_size': 256, u'epochs': 12, u'optmizer': u'adam', u'sagemaker_submit_directory': u's3://sagemaker-us-west-2-722812380636/sagemaker-mxnet-2018-07-17-20-46-02-659/source/sourcedir.tar.gz', u'sagemaker_region': u'us-west-2', u'sagemaker_enable_cloudwatch_metrics': False, u'sagemaker_job_name': u'sagemaker-mxnet-2018-07-17-20-46-02-659', u'sagemaker_container_log_level': 20}, 'hosts': [u'algo-1'], 'job_name': 'sagemaker-mxnet-2018-07-17-20-46-02-659', '_ps_port': 8000, 'user_script_archive': u's3://sagemaker-us-west-2-722812380636/sagemaker-mxnet-2018-07-17-20-46-02-659/source/sourcedir.tar.gz', '_scheduler_host': u'algo-1', 'sagemaker_region': u'us-west-2', '_scheduler_ip': '10.32.0.4', 'input_dir': '/opt/ml/input', 'user_requirements_file': None, 'current_host': u'algo-1', 'container_log_level': 20, 'available_cpus': 8, 'base_dir': '/opt/ml'}\u001b[0m\n",
      "\u001b[31mDownloading s3://sagemaker-us-west-2-722812380636/sagemaker-mxnet-2018-07-17-20-46-02-659/source/sourcedir.tar.gz to /tmp/script.tar.gz\u001b[0m\n",
      "\u001b[31m2018-07-17 20:49:45,633 INFO - botocore.vendored.requests.packages.urllib3.connectionpool - Starting new HTTP connection (1): 169.254.170.2\u001b[0m\n",
      "\u001b[31m2018-07-17 20:49:45,757 INFO - botocore.vendored.requests.packages.urllib3.connectionpool - Starting new HTTPS connection (1): sagemaker-us-west-2-722812380636.s3.amazonaws.com\u001b[0m\n",
      "\u001b[31m2018-07-17 20:49:45,822 INFO - botocore.vendored.requests.packages.urllib3.connectionpool - Starting new HTTPS connection (2): sagemaker-us-west-2-722812380636.s3.amazonaws.com\u001b[0m\n",
      "\u001b[31m2018-07-17 20:49:45,836 INFO - botocore.vendored.requests.packages.urllib3.connectionpool - Starting new HTTPS connection (1): sagemaker-us-west-2-722812380636.s3.us-west-2.amazonaws.com\u001b[0m\n",
      "\u001b[31m2018-07-17 20:49:45,875 INFO - botocore.vendored.requests.packages.urllib3.connectionpool - Starting new HTTPS connection (2): sagemaker-us-west-2-722812380636.s3.us-west-2.amazonaws.com\u001b[0m\n",
      "\u001b[31m2018-07-17 20:49:45,987 INFO - mxnet_container.train - Starting distributed training task\u001b[0m\n",
      "\u001b[31m[20:49:54] src/operator/nn/./cudnn/./cudnn_algoreg-inl.h:107: Running performance tests to find the best convolution algorithm, this can take a while... (setting env variable MXNET_CUDNN_AUTOTUNE_DEFAULT to 0 to disable)\u001b[0m\n",
      "\u001b[31mEpoch 0: loss: 1.34140407459 - val_loss: 1.31294797024\u001b[0m\n",
      "\u001b[31mEpoch 1: loss: 0.472073256114 - val_loss: 0.446966819289\u001b[0m\n",
      "\u001b[31mEpoch 2: loss: 0.474627761927 - val_loss: 0.449524954562\u001b[0m\n",
      "\u001b[31mEpoch 3: loss: 0.474772620942 - val_loss: 0.449670013552\u001b[0m\n",
      "\u001b[31mEpoch 4: loss: 0.474779672273 - val_loss: 0.449677073817\u001b[0m\n",
      "\u001b[31mEpoch 5: loss: 0.474779672273 - val_loss: 0.449677073817\u001b[0m\n",
      "\u001b[31mEpoch 6: loss: 0.474779672273 - val_loss: 0.449677073817\u001b[0m\n",
      "\u001b[31mEpoch 7: loss: 0.474779672273 - val_loss: 0.449677073817\u001b[0m\n",
      "\u001b[31mEpoch 8: loss: 0.474779672273 - val_loss: 0.449677073817\u001b[0m\n",
      "\u001b[31mEpoch 9: loss: 0.474778576919 - val_loss: 0.44967598764\u001b[0m\n",
      "\u001b[31mEpoch 10: loss: 0.474776304662 - val_loss: 0.449673714435\u001b[0m\n",
      "\u001b[31mEpoch 11: loss: 0.474774030663 - val_loss: 0.449671421044\u001b[0m\n",
      "\u001b[31mSaving the trained model ...\u001b[0m\n",
      "===== Job Complete =====\n",
      "Billable seconds: 224\n"
     ]
    }
   ],
   "source": [
    "# Create a MXNet Estimator\n",
    "mxnet_estimator = MXNet(\n",
    "    'model.py',\n",
    "    role=role,\n",
    "    train_instance_count=1,\n",
    "    train_instance_type='ml.p3.2xlarge',\n",
    "    output_path='s3://' + bucket,\n",
    "    hyperparameters={\n",
    "        'epochs': 12,\n",
    "        'optmizer': 'adam',\n",
    "        'learning_rate': .1,\n",
    "        'batch_size': 256\n",
    "    }\n",
    ")\n",
    "\n",
    "# Run the Estimator\n",
    "mxnet_estimator.fit(input_data)"
   ]
  },
  {
   "cell_type": "code",
   "execution_count": 9,
   "metadata": {},
   "outputs": [
    {
     "name": "stderr",
     "output_type": "stream",
     "text": [
      "INFO:sagemaker:Creating training-job with name: sagemaker-mxnet-2018-07-17-20-51-16-545\n"
     ]
    },
    {
     "name": "stdout",
     "output_type": "stream",
     "text": [
      ".........................\n",
      "\u001b[31m2018-07-17 20:55:16,571 INFO - root - running container entrypoint\u001b[0m\n",
      "\u001b[31m2018-07-17 20:55:16,571 INFO - root - starting train task\u001b[0m\n",
      "\u001b[31m2018-07-17 20:55:16,592 INFO - container_support.training - Training starting\u001b[0m\n",
      "\u001b[31m2018-07-17 20:55:17,496 INFO - mxnet_container.train - MXNetTrainingEnvironment: {'enable_cloudwatch_metrics': False, 'available_gpus': 1, 'channels': {u'training': {u'TrainingInputMode': u'File', u'RecordWrapperType': u'None', u'S3DistributionType': u'FullyReplicated'}}, '_ps_verbose': 0, 'resource_config': {u'current_host': u'algo-1', u'network_interface_name': u'ethwe', u'hosts': [u'algo-1']}, 'user_script_name': u'model.py', 'input_config_dir': '/opt/ml/input/config', 'channel_dirs': {u'training': u'/opt/ml/input/data/training'}, 'code_dir': '/opt/ml/code', 'output_data_dir': '/opt/ml/output/data/', 'output_dir': '/opt/ml/output', 'model_dir': '/opt/ml/model', 'hyperparameters': {u'sagemaker_program': u'model.py', u'learning_rate': 0.0001, u'batch_size': 16, u'epochs': 12, u'optmizer': u'adam', u'sagemaker_submit_directory': u's3://sagemaker-us-west-2-722812380636/sagemaker-mxnet-2018-07-17-20-51-16-545/source/sourcedir.tar.gz', u'sagemaker_region': u'us-west-2', u'sagemaker_enable_cloudwatch_metrics': False, u'sagemaker_job_name': u'sagemaker-mxnet-2018-07-17-20-51-16-545', u'sagemaker_container_log_level': 20}, 'hosts': [u'algo-1'], 'job_name': 'sagemaker-mxnet-2018-07-17-20-51-16-545', '_ps_port': 8000, 'user_script_archive': u's3://sagemaker-us-west-2-722812380636/sagemaker-mxnet-2018-07-17-20-51-16-545/source/sourcedir.tar.gz', '_scheduler_host': u'algo-1', 'sagemaker_region': u'us-west-2', '_scheduler_ip': '10.32.0.4', 'input_dir': '/opt/ml/input', 'user_requirements_file': None, 'current_host': u'algo-1', 'container_log_level': 20, 'available_cpus': 8, 'base_dir': '/opt/ml'}\u001b[0m\n",
      "\u001b[31mDownloading s3://sagemaker-us-west-2-722812380636/sagemaker-mxnet-2018-07-17-20-51-16-545/source/sourcedir.tar.gz to /tmp/script.tar.gz\u001b[0m\n",
      "\u001b[31m2018-07-17 20:55:17,602 INFO - botocore.vendored.requests.packages.urllib3.connectionpool - Starting new HTTP connection (1): 169.254.170.2\u001b[0m\n",
      "\u001b[31m2018-07-17 20:55:17,711 INFO - botocore.vendored.requests.packages.urllib3.connectionpool - Starting new HTTPS connection (1): sagemaker-us-west-2-722812380636.s3.amazonaws.com\u001b[0m\n",
      "\u001b[31m2018-07-17 20:55:17,778 INFO - botocore.vendored.requests.packages.urllib3.connectionpool - Starting new HTTPS connection (2): sagemaker-us-west-2-722812380636.s3.amazonaws.com\u001b[0m\n",
      "\u001b[31m2018-07-17 20:55:17,793 INFO - botocore.vendored.requests.packages.urllib3.connectionpool - Starting new HTTPS connection (1): sagemaker-us-west-2-722812380636.s3.us-west-2.amazonaws.com\u001b[0m\n",
      "\u001b[31m2018-07-17 20:55:17,831 INFO - botocore.vendored.requests.packages.urllib3.connectionpool - Starting new HTTPS connection (2): sagemaker-us-west-2-722812380636.s3.us-west-2.amazonaws.com\u001b[0m\n",
      "\u001b[31m2018-07-17 20:55:17,981 INFO - mxnet_container.train - Starting distributed training task\u001b[0m\n",
      "\u001b[31m[20:55:26] src/operator/nn/./cudnn/./cudnn_algoreg-inl.h:107: Running performance tests to find the best convolution algorithm, this can take a while... (setting env variable MXNET_CUDNN_AUTOTUNE_DEFAULT to 0 to disable)\u001b[0m\n",
      "\u001b[31mEpoch 0: loss: 0.0288907707494 - val_loss: 0.0145338936046\u001b[0m\n",
      "\u001b[31mEpoch 1: loss: 0.0245157656253 - val_loss: 0.0164659553297\u001b[0m\n",
      "\u001b[31mEpoch 2: loss: 0.0226580650027 - val_loss: 0.0164613894655\u001b[0m\n",
      "\u001b[31mEpoch 3: loss: 0.0224594356847 - val_loss: 0.0148770413092\u001b[0m\n",
      "\u001b[31mEpoch 4: loss: 0.0197774616037 - val_loss: 0.0177176618145\u001b[0m\n",
      "\u001b[31mEpoch 5: loss: 0.0170753530705 - val_loss: 0.0168411388899\u001b[0m\n",
      "\u001b[31mEpoch 6: loss: 0.0155930654279 - val_loss: 0.0168892216245\u001b[0m\n",
      "\u001b[31mEpoch 7: loss: 0.0135609924038 - val_loss: 0.0177668199418\u001b[0m\n",
      "\u001b[31mEpoch 8: loss: 0.0113431965751 - val_loss: 0.0221398298651\u001b[0m\n",
      "\u001b[31mEpoch 9: loss: 0.00972246463937 - val_loss: 0.0202302528371\u001b[0m\n",
      "\u001b[31mEpoch 10: loss: 0.00760481210475 - val_loss: 0.0187545471094\u001b[0m\n",
      "\u001b[31mEpoch 11: loss: 0.00690834880254 - val_loss: 0.0220886168392\u001b[0m\n",
      "\u001b[31mSaving the trained model ...\u001b[0m\n",
      "===== Job Complete =====\n",
      "Billable seconds: 228\n"
     ]
    }
   ],
   "source": [
    "# Create a MXNet Estimator\n",
    "mxnet_estimator = MXNet(\n",
    "    'model.py',\n",
    "    role=role,\n",
    "    train_instance_count=1,\n",
    "    train_instance_type='ml.p3.2xlarge',\n",
    "    output_path='s3://' + bucket,\n",
    "    hyperparameters={\n",
    "        'epochs': 12,\n",
    "        'optmizer': 'adam',\n",
    "        'learning_rate': .0001,\n",
    "        'batch_size': 16\n",
    "    }\n",
    ")\n",
    "\n",
    "# Run the Estimator\n",
    "mxnet_estimator.fit(input_data)"
   ]
  },
  {
   "cell_type": "code",
   "execution_count": 10,
   "metadata": {},
   "outputs": [
    {
     "name": "stderr",
     "output_type": "stream",
     "text": [
      "INFO:sagemaker:Creating training-job with name: sagemaker-mxnet-2018-07-17-20-57-00-482\n"
     ]
    },
    {
     "name": "stdout",
     "output_type": "stream",
     "text": [
      ".........................\n",
      "\u001b[31m2018-07-17 21:01:02,611 INFO - root - running container entrypoint\u001b[0m\n",
      "\u001b[31m2018-07-17 21:01:02,612 INFO - root - starting train task\u001b[0m\n",
      "\u001b[31m2018-07-17 21:01:02,631 INFO - container_support.training - Training starting\u001b[0m\n",
      "\u001b[31m2018-07-17 21:01:05,040 INFO - mxnet_container.train - MXNetTrainingEnvironment: {'enable_cloudwatch_metrics': False, 'available_gpus': 1, 'channels': {u'training': {u'TrainingInputMode': u'File', u'RecordWrapperType': u'None', u'S3DistributionType': u'FullyReplicated'}}, '_ps_verbose': 0, 'resource_config': {u'current_host': u'algo-1', u'network_interface_name': u'ethwe', u'hosts': [u'algo-1']}, 'user_script_name': u'model.py', 'input_config_dir': '/opt/ml/input/config', 'channel_dirs': {u'training': u'/opt/ml/input/data/training'}, 'code_dir': '/opt/ml/code', 'output_data_dir': '/opt/ml/output/data/', 'output_dir': '/opt/ml/output', 'model_dir': '/opt/ml/model', 'hyperparameters': {u'sagemaker_program': u'model.py', u'learning_rate': 0.0001, u'batch_size': 256, u'epochs': 12, u'optmizer': u'adam', u'sagemaker_submit_directory': u's3://sagemaker-us-west-2-722812380636/sagemaker-mxnet-2018-07-17-20-57-00-482/source/sourcedir.tar.gz', u'sagemaker_region': u'us-west-2', u'sagemaker_enable_cloudwatch_metrics': False, u'sagemaker_job_name': u'sagemaker-mxnet-2018-07-17-20-57-00-482', u'sagemaker_container_log_level': 20}, 'hosts': [u'algo-1'], 'job_name': 'sagemaker-mxnet-2018-07-17-20-57-00-482', '_ps_port': 8000, 'user_script_archive': u's3://sagemaker-us-west-2-722812380636/sagemaker-mxnet-2018-07-17-20-57-00-482/source/sourcedir.tar.gz', '_scheduler_host': u'algo-1', 'sagemaker_region': u'us-west-2', '_scheduler_ip': '10.32.0.4', 'input_dir': '/opt/ml/input', 'user_requirements_file': None, 'current_host': u'algo-1', 'container_log_level': 20, 'available_cpus': 8, 'base_dir': '/opt/ml'}\u001b[0m\n",
      "\u001b[31mDownloading s3://sagemaker-us-west-2-722812380636/sagemaker-mxnet-2018-07-17-20-57-00-482/source/sourcedir.tar.gz to /tmp/script.tar.gz\u001b[0m\n",
      "\u001b[31m2018-07-17 21:01:05,169 INFO - botocore.vendored.requests.packages.urllib3.connectionpool - Starting new HTTP connection (1): 169.254.170.2\u001b[0m\n",
      "\u001b[31m2018-07-17 21:01:05,294 INFO - botocore.vendored.requests.packages.urllib3.connectionpool - Starting new HTTPS connection (1): sagemaker-us-west-2-722812380636.s3.amazonaws.com\u001b[0m\n",
      "\u001b[31m2018-07-17 21:01:05,382 INFO - botocore.vendored.requests.packages.urllib3.connectionpool - Starting new HTTPS connection (2): sagemaker-us-west-2-722812380636.s3.amazonaws.com\u001b[0m\n",
      "\u001b[31m2018-07-17 21:01:05,397 INFO - botocore.vendored.requests.packages.urllib3.connectionpool - Starting new HTTPS connection (1): sagemaker-us-west-2-722812380636.s3.us-west-2.amazonaws.com\u001b[0m\n",
      "\u001b[31m2018-07-17 21:01:05,491 INFO - botocore.vendored.requests.packages.urllib3.connectionpool - Starting new HTTPS connection (2): sagemaker-us-west-2-722812380636.s3.us-west-2.amazonaws.com\u001b[0m\n",
      "\u001b[31m2018-07-17 21:01:05,614 INFO - mxnet_container.train - Starting distributed training task\u001b[0m\n",
      "\u001b[31m[21:01:14] src/operator/nn/./cudnn/./cudnn_algoreg-inl.h:107: Running performance tests to find the best convolution algorithm, this can take a while... (setting env variable MXNET_CUDNN_AUTOTUNE_DEFAULT to 0 to disable)\u001b[0m\n",
      "\u001b[31mEpoch 0: loss: 0.0384428067413 - val_loss: 0.0151170583946\u001b[0m\n",
      "\u001b[31mEpoch 1: loss: 0.0338762014931 - val_loss: 0.0147790484815\u001b[0m\n",
      "\u001b[31mEpoch 2: loss: 0.0294437216864 - val_loss: 0.0179491326969\u001b[0m\n",
      "\u001b[31mEpoch 3: loss: 0.026903065423 - val_loss: 0.0161560368755\u001b[0m\n",
      "\u001b[31mEpoch 4: loss: 0.0269685102442 - val_loss: 0.0215623836909\u001b[0m\n",
      "\u001b[31mEpoch 5: loss: 0.0245729716648 - val_loss: 0.0174612389879\u001b[0m\n",
      "\u001b[31mEpoch 6: loss: 0.0247054895789 - val_loss: 0.0215349412363\u001b[0m\n",
      "\u001b[31mEpoch 7: loss: 0.0237517381837 - val_loss: 0.0157811791649\u001b[0m\n",
      "\u001b[31mEpoch 8: loss: 0.0208624011246 - val_loss: 0.0177287922236\u001b[0m\n",
      "\u001b[31mEpoch 9: loss: 0.0197924220484 - val_loss: 0.0180321417184\u001b[0m\n",
      "\u001b[31mEpoch 10: loss: 0.0203645106471 - val_loss: 0.0170129120892\u001b[0m\n",
      "\u001b[31mEpoch 11: loss: 0.0180524586483 - val_loss: 0.0200201815131\u001b[0m\n",
      "\u001b[31mSaving the trained model ...\u001b[0m\n",
      "===== Job Complete =====\n",
      "Billable seconds: 230\n"
     ]
    }
   ],
   "source": [
    "# Create a MXNet Estimator\n",
    "mxnet_estimator = MXNet(\n",
    "    'model.py',\n",
    "    role=role,\n",
    "    train_instance_count=1,\n",
    "    train_instance_type='ml.p3.2xlarge',\n",
    "    output_path='s3://' + bucket,\n",
    "    hyperparameters={\n",
    "        'epochs': 12,\n",
    "        'optmizer': 'adam',\n",
    "        'learning_rate': .0001,\n",
    "        'batch_size': 256\n",
    "    }\n",
    ")\n",
    "\n",
    "# Run the Estimator\n",
    "mxnet_estimator.fit(input_data)"
   ]
  },
  {
   "cell_type": "markdown",
   "metadata": {},
   "source": [
    "---\n",
    "# Next Step: Hyperparameter Tuning in SageMaker\n",
    "[Module 3](../3_SageMakerHPO/README.md)"
   ]
  }
 ],
 "metadata": {
  "kernelspec": {
   "display_name": "conda_mxnet_p36",
   "language": "python",
   "name": "conda_mxnet_p36"
  },
  "language_info": {
   "codemirror_mode": {
    "name": "ipython",
    "version": 3
   },
   "file_extension": ".py",
   "mimetype": "text/x-python",
   "name": "python",
   "nbconvert_exporter": "python",
   "pygments_lexer": "ipython3",
   "version": "3.6.4"
  }
 },
 "nbformat": 4,
 "nbformat_minor": 2
}
