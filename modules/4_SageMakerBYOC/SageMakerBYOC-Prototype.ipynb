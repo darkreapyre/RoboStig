{
 "cells": [
  {
   "cell_type": "markdown",
   "metadata": {},
   "source": [
    "# Training BYOC on SageMaker\n",
    ">__Note:__ This assumes a container has already been built and deployed to ECR.\n",
    "\n",
    "## Prepare the Data"
   ]
  },
  {
   "cell_type": "code",
   "execution_count": null,
   "metadata": {
    "scrolled": true
   },
   "outputs": [],
   "source": [
    "# Load the required libraries\n",
    "import warnings\n",
    "import zipfile\n",
    "import boto3\n",
    "import os\n",
    "import json\n",
    "import urllib.request\n",
    "import sagemaker\n",
    "import tempfile\n",
    "import cv2\n",
    "import numpy as np\n",
    "import pandas as pd\n",
    "import matplotlib.image as mpimg\n",
    "from sagemaker.estimator import Estimator\n",
    "from sklearn.model_selection import train_test_split"
   ]
  },
  {
   "cell_type": "code",
   "execution_count": null,
   "metadata": {
    "scrolled": true
   },
   "outputs": [],
   "source": [
    "# Configure SageMaker parameters\n",
    "region = boto3.Session().region_name\n",
    "sagemaker_session = sagemaker.Session()\n",
    "sagemaker_client = boto3.client('sagemaker')\n",
    "bucket = sagemaker.Session().default_bucket()\n",
    "role = sagemaker.get_execution_role()"
   ]
  },
  {
   "cell_type": "markdown",
   "metadata": {},
   "source": [
    "## Set Hyperparameters\n",
    ">__Note:__ Hyperparameters to be supplied by instructor are:\n",
    "1. `data_bucket`: s3://sagemaker-workshop-500842391574-us-west-2/data/\n",
    "2. `training_image`: 500842391574.dkr.ecr.us-west-2.amazonaws.com/pystig:keras-gpu\n",
    "3. `hosting_image`: 500842391574.dkr.ecr.us-west-2.amazonaws.com/pystig:keras-cpu"
   ]
  },
  {
   "cell_type": "code",
   "execution_count": null,
   "metadata": {
    "scrolled": false
   },
   "outputs": [],
   "source": [
    "# Configure the hyperparameters from the instructor\n",
    "data_bucket = '<<PROVIDED BY INSTRUCTOR>>'\n",
    "training_image = '<<PROVIDED BY INSTRUCTOR>>'\n",
    "hosting_image = '<<PROVIDED BY INSTRUCTOR>>'\n",
    "\n",
    "# Training data channel\n",
    "channels = {'train': data_bucket}\n",
    "\n",
    "# Optmized training parameters\n",
    "hyperparameters = dict(batch_size=32, learning_rate=.0001, epochs=12)\n",
    "\n",
    "# Output of trained model\n",
    "output_location = \"s3://{}\".format(bucket)\n",
    "\n",
    "# SageMaker estimator\n",
    "BYOC_estimator = Estimator(\n",
    "    training_image,\n",
    "    role=role,\n",
    "    output_path=output_location,\n",
    "    train_instance_count=1,\n",
    "    train_instance_type='ml.p3.2xlarge',\n",
    "    hyperparameters=hyperparameters,\n",
    "    sagemaker_session=sagemaker_session\n",
    ")\n",
    "\n",
    "# Start training\n",
    "BYOC_estimator.fit(channels)"
   ]
  },
  {
   "cell_type": "markdown",
   "metadata": {
    "scrolled": true
   },
   "source": [
    "## Training Job Description\n",
    ">__Note:__ Make sure to remember the name of the training job above."
   ]
  },
  {
   "cell_type": "code",
   "execution_count": null,
   "metadata": {},
   "outputs": [],
   "source": [
    "# Add name of the training job\n",
    "job_name = '<<TRAINING JOB NAME>>'\n",
    "response = sagemaker_client.describe_training_job(\n",
    "    TrainingJobName=job_name\n",
    ")\n",
    "response"
   ]
  },
  {
   "cell_type": "markdown",
   "metadata": {},
   "source": [
    "---\n",
    "## Deploy model - Standard\n",
    "__Use `estimator.deploy()` based on GPU Container training__\n",
    ">__Note:__ This is not cost effective."
   ]
  },
  {
   "cell_type": "markdown",
   "metadata": {},
   "source": [
    "```\n",
    "predictor = BYOC_estimator.deploy(initial_instance_count=1, instance_type='ml.c4.xlarge')\n",
    "```"
   ]
  },
  {
   "cell_type": "markdown",
   "metadata": {},
   "source": [
    "---\n",
    "## Deploy Model - CPU Container\n",
    "__Use separate CPU container and the `sagemaker.Session()` API to specify a different serving container__\n",
    "\n",
    "### Step 1: Create a new model from the training job, specifying a different container for training, in this case a CPU-based container."
   ]
  },
  {
   "cell_type": "code",
   "execution_count": null,
   "metadata": {},
   "outputs": [],
   "source": [
    "BYOC_model = sagemaker_session.create_model_from_job(\n",
    "    name = job_name.split('-')[0]+'-model',\n",
    "    training_job_name=job_name,\n",
    "    role=role,\n",
    "    primary_container_image=hosting_image,\n",
    "    model_data_url='s3://{}/{}/output/model.tar.gz'.format(bucket, job_name)\n",
    ")"
   ]
  },
  {
   "cell_type": "markdown",
   "metadata": {},
   "source": [
    "### Step 2: Create a SageMaker Endpoint Configuration"
   ]
  },
  {
   "cell_type": "code",
   "execution_count": null,
   "metadata": {},
   "outputs": [],
   "source": [
    "BYOC_endpoint_config_name = sagemaker_session.create_endpoint_config(\n",
    "    name=job_name.split('-')[0]+'-endpoint-config',\n",
    "    model_name=BYOC_model,\n",
    "    initial_instance_count=1,\n",
    "    instance_type='ml.c4.xlarge'\n",
    ")"
   ]
  },
  {
   "cell_type": "markdown",
   "metadata": {},
   "source": [
    "### Step 3: Deploy the SageMaker Endpoint"
   ]
  },
  {
   "cell_type": "code",
   "execution_count": null,
   "metadata": {},
   "outputs": [],
   "source": [
    "create_endpoint_response = sagemaker_session.create_endpoint(\n",
    "    endpoint_name=job_name.split('-')[0]+'-endpoint',\n",
    "    config_name=str(BYOC_endpoint_config_name)\n",
    ")"
   ]
  },
  {
   "cell_type": "code",
   "execution_count": null,
   "metadata": {},
   "outputs": [],
   "source": [
    "sagemaker_client.describe_endpoint(EndpointName=create_endpoint_response)"
   ]
  },
  {
   "cell_type": "markdown",
   "metadata": {},
   "source": [
    "---\n",
    "\n",
    "---\n",
    "## Manually Test Endpoint (Simuilate pyStig driver)\n",
    "### Get Sample Data for predictions"
   ]
  },
  {
   "cell_type": "code",
   "execution_count": null,
   "metadata": {},
   "outputs": [],
   "source": [
    "# Helper functions\n",
    "def download(url):\n",
    "    \"\"\"\n",
    "    Helper function to download individual file from given url.\n",
    "    \n",
    "    Arguments:\n",
    "    url -- full URL of the file to download\n",
    "    \n",
    "    Returns:\n",
    "    filename -- downloaded file name\n",
    "    \"\"\"\n",
    "    filename = url.split(\"/\")[-1]\n",
    "    if not os.path.exists(filename):\n",
    "        urllib.request.urlretrieve(url, filename)\n",
    "    return filename\n",
    "\n",
    "# To download and extract Sample Data\n",
    "URL = 'https://s3.us-west-2.amazonaws.com/'+data_bucket.split('//')[1]+'/data/data.zip'\n",
    "file = download(URL)\n",
    "\n",
    "# Extract the file\n",
    "with zipfile.ZipFile(file) as zf:\n",
    "    zf.extractall()\n",
    "    \n",
    "# Image Transofmrations\n",
    "def crop(image):\n",
    "    \"\"\"\n",
    "    Crop the image (removing the sky at the top and the car front at the bottom).\n",
    "    \n",
    "    Returns:\n",
    "    Cropped image.\n",
    "    \"\"\"\n",
    "    return image[60:-25, :, :]\n",
    "\n",
    "def resize(image):\n",
    "    \"\"\"\n",
    "    Resize the image to the input shape used by the network model.\n",
    "    \n",
    "    Returns:\n",
    "    Resized image.\n",
    "    \"\"\"\n",
    "    return cv2.resize(image, (IMAGE_WIDTH, IMAGE_HEIGHT), cv2.INTER_AREA)\n",
    "\n",
    "def rgb2yuv(image):\n",
    "    \"\"\"\n",
    "    Convert the image from RGB to YUV.\n",
    "    \n",
    "    Returns:\n",
    "    YUV image.\n",
    "    \"\"\"\n",
    "    return cv2.cvtColor(image, cv2.COLOR_RGB2YUV)\n",
    "\n",
    "def load(data_dir, image_file):\n",
    "    \"\"\"\n",
    "    Load RGB images from a file\n",
    "    \"\"\"\n",
    "    return mpimg.imread(os.path.join(data_dir, image_file.strip()))\n",
    "\n",
    "def transform(image):\n",
    "    \"\"\"\n",
    "    Combine all preprocess functions into one\n",
    "    \"\"\"\n",
    "    image = crop(image)\n",
    "    image = resize(image)\n",
    "    image = rgb2yuv(image)\n",
    "    return image"
   ]
  },
  {
   "cell_type": "markdown",
   "metadata": {},
   "source": [
    "### Random Sample Image"
   ]
  },
  {
   "cell_type": "code",
   "execution_count": null,
   "metadata": {},
   "outputs": [],
   "source": [
    "# Origional 'left' image\n",
    "IMAGE_HEIGHT, IMAGE_WIDTH, IMAGE_CHANNELS = 66, 200, 3\n",
    "INPUT_SHAPE = (IMAGE_HEIGHT, IMAGE_WIDTH, IMAGE_CHANNELS)\n",
    "data_df = pd.read_csv('./data/driving_log.csv')\n",
    "X = data_df[['center', 'left', 'right']].values\n",
    "y = data_df['steering'].values\n",
    "# Use image 900\n",
    "random_image = X[900][0]\n",
    "img = load('data', random_image)"
   ]
  },
  {
   "cell_type": "code",
   "execution_count": null,
   "metadata": {},
   "outputs": [],
   "source": [
    "# Simulate pyStig call by first pre-preocessing image and converting to 4D array\n",
    "endpoint_name = sagemaker_client.describe_endpoint(EndpointName=create_endpoint_response)['EndpointName']\n",
    "payload = np.array([transform(img)])"
   ]
  },
  {
   "cell_type": "code",
   "execution_count": null,
   "metadata": {},
   "outputs": [],
   "source": [
    "# Invoke SageMaker endpoint with image data\n",
    "runtime_client = boto3.client('sagemaker-runtime')\n",
    "response = runtime_client.invoke_endpoint(\n",
    "    EndpointName=endpoint_name,\n",
    "    ContentType='application/json',\n",
    "    Body=json.dumps(payload.tolist())\n",
    ")\n",
    "prediction = float(json.loads(response['Body'].read().decode('utf-8'))[0])"
   ]
  },
  {
   "cell_type": "code",
   "execution_count": null,
   "metadata": {},
   "outputs": [],
   "source": [
    "# Steering angle prediction on image 900\n",
    "prediction"
   ]
  },
  {
   "cell_type": "code",
   "execution_count": null,
   "metadata": {},
   "outputs": [],
   "source": [
    "# Origional image 900 steering angle\n",
    "y[900]"
   ]
  },
  {
   "cell_type": "markdown",
   "metadata": {},
   "source": [
    "---\n",
    "\n",
    "---\n",
    "## Test Endpoint using `numpy` Arrays (Simuilate pyStig driver)\n",
    "\n",
    "<details><summary><strong>Note to self</strong></summary><p>\n",
    "    DO NOT DOWNLOAD `data.zip`. Use the `numpy` arrays in `/tmp/`\n",
    "    </p>\n",
    "</details>"
   ]
  }
 ],
 "metadata": {
  "kernelspec": {
   "display_name": "conda_python3",
   "language": "python",
   "name": "conda_python3"
  },
  "language_info": {
   "codemirror_mode": {
    "name": "ipython",
    "version": 3
   },
   "file_extension": ".py",
   "mimetype": "text/x-python",
   "name": "python",
   "nbconvert_exporter": "python",
   "pygments_lexer": "ipython3",
   "version": "3.6.4"
  }
 },
 "nbformat": 4,
 "nbformat_minor": 2
}
