{
 "cells": [
  {
   "cell_type": "markdown",
   "metadata": {},
   "source": [
    "# SageMaker Image Classification Algorithm\n",
    "In this module you will use the Training and Validation datasets that you created in [Module 1](../1_DataExploration/Data_Exploration.ipynb) and use one of SageMaker's built-in algorithms ([Image Classification Algorithm](https://docs.aws.amazon.com/sagemaker/latest/dg/image-classification.html)) to predict the steering angle of the vehicle."
   ]
  },
  {
   "cell_type": "code",
   "execution_count": 10,
   "metadata": {},
   "outputs": [],
   "source": [
    "import warnings\n",
    "import os\n",
    "import numpy as np\n",
    "from scipy.misc import imsave\n",
    "import urllib.request\n",
    "warnings.simplefilter('ignore')\n",
    "\n"
   ]
  },
  {
   "cell_type": "code",
   "execution_count": null,
   "metadata": {},
   "outputs": [],
   "source": []
  },
  {
   "cell_type": "code",
   "execution_count": null,
   "metadata": {},
   "outputs": [],
   "source": []
  },
  {
   "cell_type": "code",
   "execution_count": null,
   "metadata": {},
   "outputs": [],
   "source": []
  },
  {
   "cell_type": "code",
   "execution_count": null,
   "metadata": {},
   "outputs": [],
   "source": []
  },
  {
   "cell_type": "code",
   "execution_count": null,
   "metadata": {},
   "outputs": [],
   "source": []
  },
  {
   "cell_type": "code",
   "execution_count": null,
   "metadata": {},
   "outputs": [],
   "source": []
  },
  {
   "cell_type": "code",
   "execution_count": null,
   "metadata": {},
   "outputs": [],
   "source": []
  },
  {
   "cell_type": "code",
   "execution_count": null,
   "metadata": {},
   "outputs": [],
   "source": []
  },
  {
   "cell_type": "code",
   "execution_count": null,
   "metadata": {},
   "outputs": [],
   "source": []
  },
  {
   "cell_type": "code",
   "execution_count": null,
   "metadata": {},
   "outputs": [],
   "source": []
  },
  {
   "cell_type": "code",
   "execution_count": null,
   "metadata": {},
   "outputs": [],
   "source": []
  },
  {
   "cell_type": "code",
   "execution_count": null,
   "metadata": {},
   "outputs": [],
   "source": []
  },
  {
   "cell_type": "code",
   "execution_count": null,
   "metadata": {},
   "outputs": [],
   "source": []
  },
  {
   "cell_type": "code",
   "execution_count": null,
   "metadata": {},
   "outputs": [],
   "source": []
  },
  {
   "cell_type": "code",
   "execution_count": null,
   "metadata": {},
   "outputs": [],
   "source": []
  },
  {
   "cell_type": "code",
   "execution_count": null,
   "metadata": {},
   "outputs": [],
   "source": []
  },
  {
   "cell_type": "code",
   "execution_count": null,
   "metadata": {},
   "outputs": [],
   "source": []
  },
  {
   "cell_type": "markdown",
   "metadata": {},
   "source": [
    "---\n",
    "# Appendix A: RecordIO Format"
   ]
  },
  {
   "cell_type": "code",
   "execution_count": 11,
   "metadata": {},
   "outputs": [],
   "source": [
    "def download(url):\n",
    "    filename = url.split(\"/\")[-1]\n",
    "    if not os.path.exists(filename):\n",
    "        urllib.request.urlretrieve(url, filename)\n",
    "    return filename\n",
    "\n",
    "try:\n",
    "    import multiprocessing\n",
    "except ImportError:\n",
    "    multiprocessing = None\n",
    "\n",
    "def load_data(f_path):\n",
    "    \"\"\"\n",
    "    Retrieves and loads the training/testing data from S3.\n",
    "    \n",
    "    Arguments:\n",
    "    f_path -- Location for the training/testing input dataset.\n",
    "    \n",
    "    Returns:\n",
    "    Pre-processed training and testing data along with training and testing labels.\n",
    "    \"\"\"\n",
    "    train_x = np.load(f_path+'/train_X.npy')\n",
    "    train_y = np.load(f_path+'/train_Y.npy')\n",
    "    test_x = np.load(f_path+'/valid_X.npy')\n",
    "    test_y = np.load(f_path+'/valid_Y.npy')\n",
    "    return train_x, train_y, test_x, test_y"
   ]
  },
  {
   "cell_type": "code",
   "execution_count": 12,
   "metadata": {},
   "outputs": [
    {
     "data": {
      "text/plain": [
       "'im2rec.py'"
      ]
     },
     "execution_count": 12,
     "metadata": {},
     "output_type": "execute_result"
    }
   ],
   "source": [
    "# Tool for creating lst file\n",
    "download('https://raw.githubusercontent.com/apache/incubator-mxnet/master/tools/im2rec.py')"
   ]
  },
  {
   "cell_type": "code",
   "execution_count": 13,
   "metadata": {},
   "outputs": [],
   "source": [
    "# Load the data created from Module 1\n",
    "train_X, train_y, valid_X, valid_y = load_data('/tmp/data')"
   ]
  },
  {
   "cell_type": "code",
   "execution_count": 14,
   "metadata": {},
   "outputs": [],
   "source": [
    "# Build the make_list function\n",
    "def make_lst(data, label, name):\n",
    "    # Create local repository for the images based on name\n",
    "    if not os.path.exists('./'+name):\n",
    "        os.mkdir('./'+name)\n",
    "        \n",
    "    # Create the lst file\n",
    "    lst_file = './'+name+'.lst'\n",
    "    \n",
    "    # Iterate through the numpy arrays and save as `.jpg`\n",
    "    # and update the index file\n",
    "    for i in range(len(data)):\n",
    "        img = data[i]\n",
    "        img_name = name+'/'+str(i)+'.jpg'\n",
    "        imsave(img_name, img)\n",
    "        with open(lst_file, 'a') as f:\n",
    "            f.write(\"{}\\t{}\\t{}\\n\".format(str(i), str(label[i]), img_name))\n",
    "            f.flush()\n",
    "            f.close()"
   ]
  },
  {
   "cell_type": "code",
   "execution_count": 5,
   "metadata": {},
   "outputs": [],
   "source": [
    "# Create `train.lst`\n",
    "make_lst(train_X, train_y, name='train')"
   ]
  },
  {
   "cell_type": "code",
   "execution_count": 6,
   "metadata": {},
   "outputs": [],
   "source": [
    "# Create `valid.lst'\n",
    "make_lst(valid_X, valid_y, name='valid')"
   ]
  },
  {
   "cell_type": "code",
   "execution_count": 16,
   "metadata": {},
   "outputs": [
    {
     "name": "stdout",
     "output_type": "stream",
     "text": [
      "Creating .rec file from /home/ec2-user/SageMaker/RoboStig/modules/2_SageMakerImageClassification/train.lst in /home/ec2-user/SageMaker/RoboStig/modules/2_SageMakerImageClassification\n",
      "multiprocessing not available, fall back to single threaded encoding\n",
      "time: 0.0003056526184082031  count: 0\n",
      "time: 0.06604743003845215  count: 1000\n",
      "time: 0.06506943702697754  count: 2000\n",
      "time: 0.06524467468261719  count: 3000\n",
      "time: 0.06457138061523438  count: 4000\n",
      "time: 0.06566810607910156  count: 5000\n",
      "time: 0.06589531898498535  count: 6000\n",
      "time: 0.0674893856048584  count: 7000\n",
      "Creating .rec file from /home/ec2-user/SageMaker/RoboStig/modules/2_SageMakerImageClassification/valid.lst in /home/ec2-user/SageMaker/RoboStig/modules/2_SageMakerImageClassification\n",
      "multiprocessing not available, fall back to single threaded encoding\n",
      "time: 0.00038242340087890625  count: 0\n"
     ]
    }
   ],
   "source": [
    "%%bash\n",
    "# Create the RecordIO binary\n",
    "python im2rec.py ./train.lst ./ --quality 100 --pass-through\n",
    "python im2rec.py ./valid.lst ./ --quality 100 --pass-through"
   ]
  },
  {
   "cell_type": "code",
   "execution_count": null,
   "metadata": {},
   "outputs": [],
   "source": []
  }
 ],
 "metadata": {
  "kernelspec": {
   "display_name": "conda_mxnet_p36",
   "language": "python",
   "name": "conda_mxnet_p36"
  },
  "language_info": {
   "codemirror_mode": {
    "name": "ipython",
    "version": 3
   },
   "file_extension": ".py",
   "mimetype": "text/x-python",
   "name": "python",
   "nbconvert_exporter": "python",
   "pygments_lexer": "ipython3",
   "version": "3.6.4"
  }
 },
 "nbformat": 4,
 "nbformat_minor": 2
}
