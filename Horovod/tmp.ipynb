{
 "cells": [
  {
   "cell_type": "code",
   "execution_count": 1,
   "metadata": {},
   "outputs": [],
   "source": [
    "#!pip install sagemaker-containers"
   ]
  },
  {
   "cell_type": "code",
   "execution_count": 2,
   "metadata": {},
   "outputs": [],
   "source": [
    "# Sample hyperparameters hopefully provided by SageMaker Estimator() call\n",
    "hyperparameters = {\"epochs\": 20, \"learning_rate\": 0.01}\n",
    "\n",
    "# Global variables\n",
    "_MPI_SCRIPT = \"./mpi_script.sh\"\n",
    "_MPI_IS_RUNNING = \"./mpi_is_running\"\n",
    "_MPI_IS_FINISHED = \"./mpi_is_finished\""
   ]
  },
  {
   "cell_type": "code",
   "execution_count": 3,
   "metadata": {},
   "outputs": [
    {
     "name": "stdout",
     "output_type": "stream",
     "text": [
      "{'network_interface_name': 'ethwe', 'log_level': 20, 'model_dir': '/opt/ml/model', 'num_gpus': 0, 'channel_input_dirs': {}, 'input_config_dir': '/opt/ml/input/config', 'num_cpus': 4, 'input_data_config': {}, 'output_data_dir': '/opt/ml/output/data', 'hosts': [u'algo-1', u'algo-2'], 'output_dir': '/opt/ml/output', 'module_dir': '/opt/ml/code', 'hyperparameters': {'epochs': 20, 'learning_rate': 0.01}, 'module_name': 'None', 'current_host': u'algo-1', 'input_dir': '/opt/ml/input', 'job_name': None, 'resource_config': {u'hosts': [u'algo-1', u'algo-2'], u'current_host': u'algo-1'}, 'framework_module': None}\n"
     ]
    }
   ],
   "source": [
    "import os\n",
    "import sys\n",
    "import textwrap\n",
    "import stat\n",
    "import sagemaker_containers.beta.framework as framework\n",
    "\n",
    "# `env` from __main__\n",
    "env = framework.training_env(hyperparameters=hyperparameters)\n",
    "print(env)"
   ]
  },
  {
   "cell_type": "code",
   "execution_count": 4,
   "metadata": {},
   "outputs": [
    {
     "data": {
      "text/plain": [
       "[u'--epochs', u'20', u'--learning_rate', u'0.01']"
      ]
     },
     "execution_count": 4,
     "metadata": {},
     "output_type": "execute_result"
    }
   ],
   "source": [
    "hyperparameters = framework.mapping.to_cmd_args(env.hyperparameters)\n",
    "hyperparameters"
   ]
  },
  {
   "cell_type": "code",
   "execution_count": 5,
   "metadata": {},
   "outputs": [],
   "source": [
    "# Sample to create mpirun script for each worker\n",
    "def _create_mpi_script(env):\n",
    "    \"\"\"\n",
    "    Creates a MPI script with user provided information.\n",
    "    For distributed training: the 'master node' runs mpirun with this script,\n",
    "    '/mpi_script.sh'. \n",
    "    \n",
    "    This script creates a file '/mpi_is_running' that worker nodes use to\n",
    "    determine whether training # (started by MPI from the master node) is still running.\n",
    "    \n",
    "    Processes on worker nodes use # /mpi_is_finished file to determine when to exit.\n",
    "    \n",
    "    Args:\n",
    "        env (TrainingEnv): an instance of the training environment.\n",
    "    \"\"\"\n",
    "    # return list of cmd args\n",
    "    hyperparameters = framework.mapping.to_cmd_args(env.hyperparameters)\n",
    "    channels = framework.mapping.to_cmd_args(env.channel_input_dirs)\n",
    "    #framework.modules.download_and_install(env.module_dir) # <-- check if needed\n",
    "\n",
    "    python_cmd = [sys.executable, 'train.py']\n",
    "    python_cmd.extend(hyperparameters)\n",
    "    python_cmd.extend(channels)\n",
    "\n",
    "    content = textwrap.dedent(\"\"\"#!/usr/bin/env bash\n",
    "touch /mpi_is_running\n",
    "%s\n",
    "EXIT_CODE=$?\n",
    "touch /mpi_is_finished\n",
    "exit ${EXIT_CODE}\n",
    "\"\"\" % ' '.join(python_cmd))\n",
    "\n",
    "    # build MPI script\n",
    "    with open(_MPI_SCRIPT, 'w') as w:\n",
    "        w.write(content)\n",
    "    \n",
    "    # change permissions on script\n",
    "    st = os.stat(_MPI_SCRIPT)\n",
    "    os.chmod(_MPI_SCRIPT, st.st_mode | stat.S_IEXEC)"
   ]
  },
  {
   "cell_type": "markdown",
   "metadata": {},
   "source": [
    "__Sample__"
   ]
  },
  {
   "cell_type": "code",
   "execution_count": 6,
   "metadata": {},
   "outputs": [],
   "source": [
    "python_cmd = [sys.executable, 'train.py']\n",
    "python_cmd.extend(hyperparameters)"
   ]
  },
  {
   "cell_type": "code",
   "execution_count": 7,
   "metadata": {},
   "outputs": [
    {
     "data": {
      "text/plain": [
       "['/home/ec2-user/anaconda3/envs/python2/bin/python',\n",
       " 'train.py',\n",
       " u'--epochs',\n",
       " u'20',\n",
       " u'--learning_rate',\n",
       " u'0.01']"
      ]
     },
     "execution_count": 7,
     "metadata": {},
     "output_type": "execute_result"
    }
   ],
   "source": [
    "python_cmd"
   ]
  },
  {
   "cell_type": "markdown",
   "metadata": {},
   "source": [
    "__Test using the function__"
   ]
  },
  {
   "cell_type": "code",
   "execution_count": 8,
   "metadata": {},
   "outputs": [],
   "source": [
    "_create_mpi_script(env)"
   ]
  },
  {
   "cell_type": "code",
   "execution_count": 9,
   "metadata": {},
   "outputs": [
    {
     "name": "stdout",
     "output_type": "stream",
     "text": [
      "#!/usr/bin/env bash\r\n",
      "touch /mpi_is_running\r\n",
      "/home/ec2-user/anaconda3/envs/python2/bin/python train.py --epochs 20 --learning_rate 0.01\r\n",
      "EXIT_CODE=$?\r\n",
      "touch /mpi_is_finished\r\n",
      "exit ${EXIT_CODE}\r\n"
     ]
    }
   ],
   "source": [
    "!cat ./mpi_script.sh"
   ]
  }
 ],
 "metadata": {
  "kernelspec": {
   "display_name": "conda_python2",
   "language": "python",
   "name": "conda_python2"
  },
  "language_info": {
   "codemirror_mode": {
    "name": "ipython",
    "version": 2
   },
   "file_extension": ".py",
   "mimetype": "text/x-python",
   "name": "python",
   "nbconvert_exporter": "python",
   "pygments_lexer": "ipython2",
   "version": "2.7.15"
  }
 },
 "nbformat": 4,
 "nbformat_minor": 2
}
