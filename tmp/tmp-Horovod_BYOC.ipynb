{
 "cells": [
  {
   "cell_type": "code",
   "execution_count": 1,
   "metadata": {},
   "outputs": [],
   "source": [
    "import os\n",
    "import sys\n",
    "import tarfile\n",
    "from six.moves import urllib\n",
    "from ipywidgets import FloatProgress\n",
    "from IPython.display import display\n",
    "\n",
    "DATA_URL = 'https://www.cs.toronto.edu/~kriz/cifar-10-binary.tar.gz'\n",
    "\n",
    "\n",
    "def cifar10_download(data_dir='/tmp/cifar10_data', print_progress=True):\n",
    "    \"\"\"Download and extract the tarball from Alex's website.\"\"\"\n",
    "    if not os.path.exists(data_dir):\n",
    "        os.makedirs(data_dir)\n",
    "\n",
    "    if os.path.exists(os.path.join(data_dir, 'cifar-10-batches-bin')):\n",
    "        print('cifar dataset already downloaded')\n",
    "        return\n",
    "\n",
    "    filename = DATA_URL.split('/')[-1]\n",
    "    filepath = os.path.join(data_dir, filename)\n",
    "\n",
    "    if not os.path.exists(filepath):\n",
    "        f = FloatProgress(min=0, max=100)\n",
    "        display(f)\n",
    "        sys.stdout.write('\\r>> Downloading %s ' % (filename))        \n",
    "\n",
    "        def _progress(count, block_size, total_size):\n",
    "            if print_progress:\n",
    "                f.value = 100.0 * count * block_size / total_size\n",
    "\n",
    "        filepath, _ = urllib.request.urlretrieve(DATA_URL, filepath, _progress)\n",
    "        print()\n",
    "        statinfo = os.stat(filepath)\n",
    "        print('Successfully downloaded', filename, statinfo.st_size, 'bytes.')\n",
    "\n",
    "    tarfile.open(filepath, 'r:gz').extractall(data_dir)"
   ]
  },
  {
   "cell_type": "code",
   "execution_count": 2,
   "metadata": {},
   "outputs": [],
   "source": [
    "import os\n",
    "import sagemaker\n",
    "from sagemaker import get_execution_role\n",
    "\n",
    "sagemaker_session = sagemaker.Session()\n",
    "\n",
    "role = get_execution_role()\n",
    "bucket = sagemaker_session.default_bucket()"
   ]
  },
  {
   "cell_type": "code",
   "execution_count": null,
   "metadata": {},
   "outputs": [],
   "source": []
  },
  {
   "cell_type": "code",
   "execution_count": null,
   "metadata": {},
   "outputs": [],
   "source": []
  },
  {
   "cell_type": "code",
   "execution_count": null,
   "metadata": {},
   "outputs": [],
   "source": []
  },
  {
   "cell_type": "code",
   "execution_count": null,
   "metadata": {},
   "outputs": [],
   "source": [
    "# Download cifar10 datset\n",
    "cifar10_download()"
   ]
  },
  {
   "cell_type": "code",
   "execution_count": null,
   "metadata": {},
   "outputs": [],
   "source": [
    "sagemaker_session.upload_data(path='/tmp/cifar10_data', key_prefix='cifar10_data')"
   ]
  },
  {
   "cell_type": "code",
   "execution_count": null,
   "metadata": {},
   "outputs": [],
   "source": [
    "# Configure the hyperparameters from the instructor\n",
    "training_image = '500842391574.dkr.ecr.us-west-2.amazonaws.com/horovod:latest'\n",
    "#hosting_image = '<<PROVIDED BY INSTRUCTOR>>'\n",
    "\n",
    "# Training data channel\n",
    "channels = {'training': 's3://'+bucket+'/cifar10_data'}\n",
    "\n",
    "# Optmized training parameters\n",
    "hyperparameters = {'learning-rate': .0001, 'epochs': 12}\n",
    "\n",
    "# Output of trained model\n",
    "output_location = \"s3://{}\".format(bucket)"
   ]
  },
  {
   "cell_type": "code",
   "execution_count": null,
   "metadata": {},
   "outputs": [],
   "source": [
    "channels"
   ]
  },
  {
   "cell_type": "code",
   "execution_count": null,
   "metadata": {},
   "outputs": [],
   "source": [
    "from sagemaker.estimator import Estimator\n",
    "# SageMaker estimator\n",
    "horovod_estimator = Estimator(\n",
    "    training_image,\n",
    "    role=role,\n",
    "    output_path=output_location,\n",
    "    train_instance_count=2,\n",
    "    train_instance_type='ml.p3.2xlarge',\n",
    "    hyperparameters=hyperparameters,\n",
    "    sagemaker_session=sagemaker_session\n",
    ")"
   ]
  },
  {
   "cell_type": "code",
   "execution_count": null,
   "metadata": {},
   "outputs": [],
   "source": [
    "# Start training\n",
    "#horovod_estimator.fit(channels)"
   ]
  },
  {
   "cell_type": "markdown",
   "metadata": {},
   "source": [
    "__OUTPUT__\n",
    "\n",
    "```\n",
    "Creating SageMaker trainer environment:\n",
    "TrainerEnvironment(input_dir='/opt/ml/input', input_config_dir='/opt/ml/input/config', model_dir='/opt/ml/model', output_dir='/opt/ml/output', hyperparameters={'epochs': '12', 'learning-rate': '0.0001'}, resource_config={'current_host': 'algo-1', 'network_interface_name': 'ethwe', 'hosts': ['algo-1', 'algo-2']}, input_data_config={'training': {'TrainingInputMode': 'File', 'RecordWrapperType': 'None', 'S3DistributionType': 'FullyReplicated'}}, output_data_dir='/opt/ml/output/data', hosts=['algo-1', 'algo-2'], channel_dirs={'training': '/opt/ml/input/data/training'}, current_host='algo-1', available_gpus=1, available_cpus=8)\n",
    "Hyperparameters: \n",
    "{'epochs': '12', 'learning-rate': '0.0001'}\n",
    "Creating SageMaker trainer environment:\n",
    "TrainerEnvironment(input_dir='/opt/ml/input', input_config_dir='/opt/ml/input/config', model_dir='/opt/ml/model', output_dir='/opt/ml/output', hyperparameters={'epochs': '12', 'learning-rate': '0.0001'}, resource_config={'current_host': 'algo-2', 'network_interface_name': 'ethwe', 'hosts': ['algo-1', 'algo-2']}, input_data_config={'training': {'TrainingInputMode': 'File', 'RecordWrapperType': 'None', 'S3DistributionType': 'FullyReplicated'}}, output_data_dir='/opt/ml/output/data', hosts=['algo-1', 'algo-2'], channel_dirs={'training': '/opt/ml/input/data/training'}, current_host='algo-2', available_gpus=1, available_cpus=8)\n",
    "Hyperparameters: \n",
    "{'epochs': '12', 'learning-rate': '0.0001'}\n",
    "Billable seconds: 257\n",
    "```"
   ]
  },
  {
   "cell_type": "code",
   "execution_count": 3,
   "metadata": {},
   "outputs": [
    {
     "data": {
      "text/plain": [
       "{'epochs': 12, 'learning-rate': 0.0001, 'sagemaker_process_slots_per_host': 1}"
      ]
     },
     "execution_count": 3,
     "metadata": {},
     "output_type": "execute_result"
    }
   ],
   "source": [
    "# Simulate hyperparameters\n",
    "hyperparameters = {'learning-rate': .0001,\n",
    "                   'epochs': 12,\n",
    "                   'sagemaker_process_slots_per_host': 1}\n",
    "hyperparameters"
   ]
  },
  {
   "cell_type": "code",
   "execution_count": 4,
   "metadata": {},
   "outputs": [
    {
     "data": {
      "text/plain": [
       "{'output_data_dir': '/opt/ml/output'}"
      ]
     },
     "execution_count": 4,
     "metadata": {},
     "output_type": "execute_result"
    }
   ],
   "source": [
    "tmp_variable = '/opt/ml/output'\n",
    "output = {'output_data_dir': tmp_variable}\n",
    "output"
   ]
  },
  {
   "cell_type": "code",
   "execution_count": 7,
   "metadata": {},
   "outputs": [
    {
     "data": {
      "text/plain": [
       "{'output_data_dir': '/opt/ml/output'}"
      ]
     },
     "execution_count": 7,
     "metadata": {},
     "output_type": "execute_result"
    }
   ],
   "source": [
    "dict(output_data_dir=tmp_variable)"
   ]
  },
  {
   "cell_type": "code",
   "execution_count": null,
   "metadata": {},
   "outputs": [],
   "source": [
    "# Simulate env\n",
    "available_gpus = 1\n",
    "channel_dirs = {'training': '/opt/ml/input/data/training'}\n",
    "output_dir = {'output_data_dir': '/opt/ml/output'}"
   ]
  },
  {
   "cell_type": "code",
   "execution_count": null,
   "metadata": {},
   "outputs": [],
   "source": [
    "def _decode(obj):  # type: (bytes or str or unicode or object) -> unicode\n",
    "    \"\"\"Decode an object to unicode.\n",
    "    Args:\n",
    "        obj (bytes or str or unicode or anything serializable): object to be decoded\n",
    "    Returns:\n",
    "        object decoded in unicode.\n",
    "    \"\"\"\n",
    "    if obj is None:\n",
    "        return u''\n",
    "    if six.PY3 and isinstance(obj, six.binary_type):\n",
    "        # transforms a byte string (b'') in unicode\n",
    "        return obj.decode('latin1')\n",
    "    elif six.PY3:\n",
    "        # PY3 strings are unicode.\n",
    "        return str(obj)\n",
    "    elif isinstance(obj, six.text_type):\n",
    "        # returns itself if it is unicode\n",
    "        return obj\n",
    "    else:\n",
    "        # decodes pY2 string to unicode\n",
    "        return str(obj).decode('utf-8')"
   ]
  },
  {
   "cell_type": "code",
   "execution_count": null,
   "metadata": {},
   "outputs": [],
   "source": [
    "def to_cmd_args(mapping):  # type: (dict) -> list\n",
    "    \"\"\"Transform a dictionary in a list of cmd arguments.\n",
    "    Example:\n",
    "        >>>args = mapping.to_cmd_args({'model_dir': '/opt/ml/model', 'batch_size': 25})\n",
    "        >>>\n",
    "        >>>print(args)\n",
    "        ['--model_dir', '/opt/ml/model', '--batch_size', 25]\n",
    "    Args:\n",
    "        mapping (dict[str, object]): A Python mapping.\n",
    "    Returns:\n",
    "        (list): List of cmd arguments\n",
    "    \"\"\"\n",
    "\n",
    "    sorted_keys = sorted(mapping.keys())\n",
    "\n",
    "    def arg_name(obj):\n",
    "        string = _decode(obj)\n",
    "        if string:\n",
    "            return u'--%s' % string if len(string) > 1 else u'-%s' % string\n",
    "        else:\n",
    "            return u''\n",
    "\n",
    "    arg_names = [arg_name(argument) for argument in sorted_keys]\n",
    "\n",
    "    def arg_value(value):\n",
    "        if hasattr(value, 'items'):\n",
    "            map_items = ['%s=%s' % (k, v) for k, v in sorted(value.items())]\n",
    "            return ','.join(map_items)\n",
    "        return _decode(value)\n",
    "\n",
    "    arg_values = [arg_value(mapping[key]) for key in sorted_keys]\n",
    "\n",
    "    items = zip(arg_names, arg_values)\n",
    "\n",
    "    return [item for item in itertools.chain.from_iterable(items)]"
   ]
  },
  {
   "cell_type": "code",
   "execution_count": null,
   "metadata": {},
   "outputs": [],
   "source": [
    "from __future__ import absolute_import\n",
    "import collections\n",
    "import itertools\n",
    "import json\n",
    "import six\n",
    "\n",
    "cmd_hyperparameters = to_cmd_args(hyperparameters)\n",
    "cmd_hyperparameters"
   ]
  },
  {
   "cell_type": "code",
   "execution_count": null,
   "metadata": {},
   "outputs": [],
   "source": [
    "channels = to_cmd_args(channel_dirs)\n",
    "output = to_cmd_args(output_dir)"
   ]
  },
  {
   "cell_type": "code",
   "execution_count": null,
   "metadata": {},
   "outputs": [],
   "source": [
    "output"
   ]
  },
  {
   "cell_type": "code",
   "execution_count": null,
   "metadata": {},
   "outputs": [],
   "source": [
    "channels"
   ]
  },
  {
   "cell_type": "code",
   "execution_count": null,
   "metadata": {},
   "outputs": [],
   "source": [
    "import sys\n",
    "import textwrap\n",
    "_MPI_SCRIPT = \"./mpi_script.sh\"\n",
    "\n",
    "python_cmd = [sys.executable, 'train.py']\n",
    "python_cmd.extend(cmd_hyperparameters)\n",
    "python_cmd.extend(channels)\n",
    "python_cmd.extend(output)\n",
    "\n",
    "content = textwrap.dedent(\"\"\"#!/usr/bin/env bash\n",
    "touch /mpi_is_running\n",
    "%s\n",
    "EXIT_CODE=$?\n",
    "touch /mpi_is_finished\n",
    "exit ${EXIT_CODE}\n",
    "\"\"\" % ' '.join(python_cmd))\n",
    "\n",
    "# build MPI script\n",
    "with open(_MPI_SCRIPT, 'w') as w:\n",
    "    w.write(content)"
   ]
  },
  {
   "cell_type": "code",
   "execution_count": null,
   "metadata": {},
   "outputs": [],
   "source": [
    "!cat ./mpi_script.sh"
   ]
  },
  {
   "cell_type": "code",
   "execution_count": null,
   "metadata": {},
   "outputs": [],
   "source": []
  }
 ],
 "metadata": {
  "kernelspec": {
   "display_name": "conda_python2",
   "language": "python",
   "name": "conda_python2"
  },
  "language_info": {
   "codemirror_mode": {
    "name": "ipython",
    "version": 2
   },
   "file_extension": ".py",
   "mimetype": "text/x-python",
   "name": "python",
   "nbconvert_exporter": "python",
   "pygments_lexer": "ipython2",
   "version": "2.7.15"
  }
 },
 "nbformat": 4,
 "nbformat_minor": 2
}
