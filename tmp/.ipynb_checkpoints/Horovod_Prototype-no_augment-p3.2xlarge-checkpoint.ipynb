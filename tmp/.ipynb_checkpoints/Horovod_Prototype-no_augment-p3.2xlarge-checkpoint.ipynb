{
 "cells": [
  {
   "cell_type": "code",
   "execution_count": 1,
   "metadata": {},
   "outputs": [],
   "source": [
    "import os\n",
    "import sys\n",
    "import tarfile\n",
    "from six.moves import urllib\n",
    "from ipywidgets import FloatProgress\n",
    "from IPython.display import display\n",
    "\n",
    "DATA_URL = 'https://www.cs.toronto.edu/~kriz/cifar-10-python.tar.gz'\n",
    "\n",
    "\n",
    "def cifar10_download(data_dir='/tmp/cifar10_data', print_progress=True):\n",
    "    \"\"\"Download and extract the tarball from Alex's website.\"\"\"\n",
    "    if not os.path.exists(data_dir):\n",
    "        os.makedirs(data_dir)\n",
    "\n",
    "    if os.path.exists(os.path.join(data_dir, 'cifar-10-batches-py')):\n",
    "        print('cifar dataset already downloaded')\n",
    "        return\n",
    "\n",
    "    filename = DATA_URL.split('/')[-1]\n",
    "    filepath = os.path.join(data_dir, filename)\n",
    "\n",
    "    if not os.path.exists(filepath):\n",
    "        f = FloatProgress(min=0, max=100)\n",
    "        display(f)\n",
    "        sys.stdout.write('\\r>> Downloading %s ' % (filename))        \n",
    "\n",
    "        def _progress(count, block_size, total_size):\n",
    "            if print_progress:\n",
    "                f.value = 100.0 * count * block_size / total_size\n",
    "\n",
    "        filepath, _ = urllib.request.urlretrieve(DATA_URL, filepath, _progress)\n",
    "        print()\n",
    "        statinfo = os.stat(filepath)\n",
    "        print('Successfully downloaded', filename, statinfo.st_size, 'bytes.')\n",
    "\n",
    "    tarfile.open(filepath, 'r:gz').extractall(data_dir)"
   ]
  },
  {
   "cell_type": "code",
   "execution_count": 2,
   "metadata": {},
   "outputs": [],
   "source": [
    "import os\n",
    "import sagemaker\n",
    "from sagemaker import get_execution_role\n",
    "\n",
    "sagemaker_session = sagemaker.Session()\n",
    "\n",
    "role = get_execution_role()\n",
    "bucket = sagemaker_session.default_bucket()"
   ]
  },
  {
   "cell_type": "code",
   "execution_count": 3,
   "metadata": {},
   "outputs": [
    {
     "data": {
      "application/vnd.jupyter.widget-view+json": {
       "model_id": "e277d88217654092826b5d36e9abf317",
       "version_major": 2,
       "version_minor": 0
      },
      "text/plain": [
       "FloatProgress(value=0.0)"
      ]
     },
     "metadata": {},
     "output_type": "display_data"
    },
    {
     "name": "stdout",
     "output_type": "stream",
     "text": [
      ">> Downloading cifar-10-python.tar.gz ()\n",
      "('Successfully downloaded', 'cifar-10-python.tar.gz', 170498071, 'bytes.')\n"
     ]
    }
   ],
   "source": [
    "# Download cifar10 datset\n",
    "cifar10_download()"
   ]
  },
  {
   "cell_type": "code",
   "execution_count": 4,
   "metadata": {},
   "outputs": [
    {
     "data": {
      "text/plain": [
       "'s3://sagemaker-us-west-2-500842391574/cifar10_data'"
      ]
     },
     "execution_count": 4,
     "metadata": {},
     "output_type": "execute_result"
    }
   ],
   "source": [
    "# Upload to S3\n",
    "sagemaker_session.upload_data(path='/tmp/cifar10_data/cifar-10-batches-py', key_prefix='cifar10_data')"
   ]
  },
  {
   "cell_type": "code",
   "execution_count": 5,
   "metadata": {},
   "outputs": [],
   "source": [
    "# Configure SageMaker Testing parameters\n",
    "training_image = '500842391574.dkr.ecr.us-west-2.amazonaws.com/horovod:latest'\n",
    "#hosting_image = '<<TO BE TESTED>>'\n",
    "\n",
    "# Training data channel\n",
    "channels = {'training': 's3://'+bucket+'/cifar10_data'}\n",
    "\n",
    "# Optmized training parameters\n",
    "hyperparameters = {'learning_rate': .0001, 'epochs': 20, 'batch_size': 32}\n",
    "\n",
    "# Output of trained model\n",
    "output_location = \"s3://{}\".format(bucket)"
   ]
  },
  {
   "cell_type": "code",
   "execution_count": 6,
   "metadata": {},
   "outputs": [],
   "source": [
    "from sagemaker.estimator import Estimator\n",
    "# SageMaker estimator\n",
    "horovod_estimator = Estimator(\n",
    "    training_image,\n",
    "    role=role,\n",
    "    output_path=output_location,\n",
    "    train_instance_count=2,\n",
    "    train_instance_type='ml.p3.2xlarge',\n",
    "    hyperparameters=hyperparameters,\n",
    "    sagemaker_session=sagemaker_session\n",
    ")"
   ]
  },
  {
   "cell_type": "code",
   "execution_count": 7,
   "metadata": {
    "scrolled": false
   },
   "outputs": [
    {
     "name": "stderr",
     "output_type": "stream",
     "text": [
      "INFO:sagemaker:Creating training-job with name: horovod-2018-09-12-23-44-43-133\n"
     ]
    },
    {
     "name": "stdout",
     "output_type": "stream",
     "text": [
      "................................\n",
      "\u001b[32mCreating SageMaker trainer environment:\u001b[0m\n",
      "\u001b[32mTrainerEnvironment(input_dir='/opt/ml/input', input_config_dir='/opt/ml/input/config', model_dir='/opt/ml/model', output_dir='/opt/ml/output', hyperparameters={'epochs': '20', 'learning_rate': '0.0001', 'batch_size': '32'}, resource_config={'current_host': 'algo-2', 'network_interface_name': 'ethwe', 'hosts': ['algo-1', 'algo-2']}, input_data_config={'training': {'TrainingInputMode': 'File', 'RecordWrapperType': 'None', 'S3DistributionType': 'FullyReplicated'}}, output_data_dir='/opt/ml/output/data', hosts=['algo-1', 'algo-2'], channel_dirs={'training': '/opt/ml/input/data/training'}, current_host='algo-2', available_gpus=1, available_cpus=8)\u001b[0m\n",
      "\u001b[32mWorker node algo-2 is waiting for MPI to start training process\u001b[0m\n",
      "\u001b[31mCreating SageMaker trainer environment:\u001b[0m\n",
      "\u001b[31mTrainerEnvironment(input_dir='/opt/ml/input', input_config_dir='/opt/ml/input/config', model_dir='/opt/ml/model', output_dir='/opt/ml/output', hyperparameters={'epochs': '20', 'learning_rate': '0.0001', 'batch_size': '32'}, resource_config={'current_host': 'algo-1', 'network_interface_name': 'ethwe', 'hosts': ['algo-1', 'algo-2']}, input_data_config={'training': {'TrainingInputMode': 'File', 'RecordWrapperType': 'None', 'S3DistributionType': 'FullyReplicated'}}, output_data_dir='/opt/ml/output/data', hosts=['algo-1', 'algo-2'], channel_dirs={'training': '/opt/ml/input/data/training'}, current_host='algo-1', available_gpus=1, available_cpus=8)\u001b[0m\n",
      "\u001b[31mHosts that aren't SSHable yet: ['algo-1', 'algo-2']\u001b[0m\n",
      "\u001b[31mTesting connection to host algo-1\u001b[0m\n",
      "\u001b[31mCan't connect to host algo-1\u001b[0m\n",
      "\u001b[31mTesting connection to host algo-2\u001b[0m\n",
      "\u001b[31mCan connect to host algo-2\u001b[0m\n",
      "\u001b[31mHosts that aren't SSHable yet: ['algo-1']\u001b[0m\n",
      "\u001b[31mTesting connection to host algo-1\u001b[0m\n",
      "\u001b[31mCan't connect to host algo-1\u001b[0m\n",
      "\u001b[31mHosts that aren't SSHable yet: ['algo-1']\u001b[0m\n",
      "\u001b[31mTesting connection to host algo-1\u001b[0m\n",
      "\u001b[31mCan't connect to host algo-1\u001b[0m\n",
      "\u001b[31mHosts that aren't SSHable yet: ['algo-1']\u001b[0m\n",
      "\u001b[31mTesting connection to host algo-1\u001b[0m\n",
      "\u001b[31mCan connect to host algo-1\u001b[0m\n",
      "\u001b[31mnetwork interface name: ethwe\n",
      "\n",
      " MPI Command to run: mpirun --allow-run-as-root --host algo-1,algo-2 -bind-to none -map-by slot -mca pml ob1 -mca btl ^openib -x PATH -x LD_LIBRARY_PATH -x LD_PRELOAD=/libchangehostname.so -x NCCL_DEBUG=INFO -x NCCL_SOCKET_IFNAME=ethwe -np 2  /mpi_script.sh\u001b[0m\n",
      "\u001b[31m('Running MPI script:\\n\\n %s', '#!/usr/bin/env bash\\ntouch /mpi_is_running\\n/usr/bin/python train.py --batch_size 32 --epochs 20 --learning_rate 0.0001 --training /opt/ml/input/data/training --output_data_dir /opt/ml/output/data\\nEXIT_CODE=$?\\ntouch /mpi_is_finished\\nexit ${EXIT_CODE}\\n')\u001b[0m\n",
      "\u001b[31mWarning: Permanently added 'algo-2,10.40.0.3' (ECDSA) to the list of known hosts.#015\u001b[0m\n",
      "\u001b[32mMPI training process on worker node algo-2 -- Started\u001b[0m\n",
      "\u001b[31mUsing TensorFlow backend.\u001b[0m\n",
      "\u001b[31mUsing TensorFlow backend.\u001b[0m\n",
      "\u001b[31m2018-09-12 23:50:00.496687: I tensorflow/core/platform/cpu_feature_guard.cc:141] Your CPU supports instructions that this TensorFlow binary was not compiled to use: AVX2 FMA\u001b[0m\n",
      "\u001b[31m2018-09-12 23:50:00.497520: I tensorflow/core/platform/cpu_feature_guard.cc:141] Your CPU supports instructions that this TensorFlow binary was not compiled to use: AVX2 FMA\u001b[0m\n",
      "\u001b[31m2018-09-12 23:50:00.723542: I tensorflow/stream_executor/cuda/cuda_gpu_executor.cc:897] successful NUMA node read from SysFS had negative value (-1), but there must be at least one NUMA node, so returning NUMA node zero\u001b[0m\n",
      "\u001b[31m2018-09-12 23:50:00.724005: I tensorflow/core/common_runtime/gpu/gpu_device.cc:1405] Found device 0 with properties: \u001b[0m\n",
      "\u001b[31mname: Tesla V100-SXM2-16GB major: 7 minor: 0 memoryClockRate(GHz): 1.53\u001b[0m\n",
      "\u001b[31mpciBusID: 0000:00:1e.0\u001b[0m\n",
      "\u001b[31mtotalMemory: 15.78GiB freeMemory: 15.37GiB\u001b[0m\n",
      "\u001b[31m2018-09-12 23:50:00.724035: I tensorflow/core/common_runtime/gpu/gpu_device.cc:1484] Adding visible gpu devices: 0\u001b[0m\n",
      "\u001b[31m2018-09-12 23:50:00.754729: I tensorflow/stream_executor/cuda/cuda_gpu_executor.cc:897] successful NUMA node read from SysFS had negative value (-1), but there must be at least one NUMA node, so returning NUMA node zero\u001b[0m\n",
      "\u001b[31m2018-09-12 23:50:00.755199: I tensorflow/core/common_runtime/gpu/gpu_device.cc:1405] Found device 0 with properties: \u001b[0m\n",
      "\u001b[31mname: Tesla V100-SXM2-16GB major: 7 minor: 0 memoryClockRate(GHz): 1.53\u001b[0m\n",
      "\u001b[31mpciBusID: 0000:00:1e.0\u001b[0m\n",
      "\u001b[31mtotalMemory: 15.78GiB freeMemory: 15.37GiB\u001b[0m\n",
      "\u001b[31m2018-09-12 23:50:00.755225: I tensorflow/core/common_runtime/gpu/gpu_device.cc:1484] Adding visible gpu devices: 0\u001b[0m\n",
      "\u001b[31m2018-09-12 23:50:01.941099: I tensorflow/core/common_runtime/gpu/gpu_device.cc:965] Device interconnect StreamExecutor with strength 1 edge matrix:\u001b[0m\n",
      "\u001b[31m2018-09-12 23:50:01.941139: I tensorflow/core/common_runtime/gpu/gpu_device.cc:971]      0 \u001b[0m\n",
      "\u001b[31m2018-09-12 23:50:01.941151: I tensorflow/core/common_runtime/gpu/gpu_device.cc:984] 0:   N \u001b[0m\n",
      "\u001b[31m2018-09-12 23:50:01.941865: I tensorflow/core/common_runtime/gpu/gpu_device.cc:1097] Created TensorFlow device (/job:localhost/replica:0/task:0/device:GPU:0 with 14863 MB memory) -> physical GPU (device: 0, name: Tesla V100-SXM2-16GB, pci bus id: 0000:00:1e.0, compute capability: 7.0)\u001b[0m\n",
      "\u001b[31m2018-09-12 23:50:01.988904: I tensorflow/core/common_runtime/gpu/gpu_device.cc:965] Device interconnect StreamExecutor with strength 1 edge matrix:\u001b[0m\n",
      "\u001b[31m2018-09-12 23:50:01.988944: I tensorflow/core/common_runtime/gpu/gpu_device.cc:971]      0 \u001b[0m\n",
      "\u001b[31m2018-09-12 23:50:01.988952: I tensorflow/core/common_runtime/gpu/gpu_device.cc:984] 0:   N \u001b[0m\n",
      "\u001b[31m2018-09-12 23:50:01.989770: I tensorflow/core/common_runtime/gpu/gpu_device.cc:1097] Created TensorFlow device (/job:localhost/replica:0/task:0/device:GPU:0 with 14863 MB memory) -> physical GPU (device: 0, name: Tesla V100-SXM2-16GB, pci bus id: 0000:00:1e.0, compute capability: 7.0)\u001b[0m\n",
      "\u001b[31mx_train shape: (50000, 32, 32, 3)\u001b[0m\n",
      "\u001b[31m50000 train samples\u001b[0m\n",
      "\u001b[31m10000 test samples\u001b[0m\n",
      "\u001b[31mx_train shape: (50000, 32, 32, 3)\u001b[0m\n",
      "\u001b[31m50000 train samples\u001b[0m\n",
      "\u001b[31m10000 test samples\u001b[0m\n",
      "\u001b[31mNot using data augmentation.\u001b[0m\n",
      "\u001b[31mNot using data augmentation.\u001b[0m\n",
      "\u001b[31mTrain on 50000 samples, validate on 10000 samples\u001b[0m\n",
      "\u001b[31mEpoch 1/20\u001b[0m\n",
      "\u001b[31mTrain on 50000 samples, validate on 10000 samples\u001b[0m\n",
      "\u001b[31mEpoch 1/20\u001b[0m\n",
      "\u001b[31malgo-1:32:43 [0] misc/ibvwrap.cu:61 WARN Failed to open libibverbs.so[.1]\u001b[0m\n",
      "\u001b[31malgo-1:32:43 [0] INFO Using internal Network Socket\u001b[0m\n",
      "\u001b[31malgo-1:32:43 [0] INFO Using NCCL Low-latency algorithm for sizes below 16384\u001b[0m\n",
      "\u001b[31malgo-1:32:43 [0] INFO NET : Using interface ethwe:10.32.0.4<0>\u001b[0m\n",
      "\u001b[31malgo-1:32:43 [0] INFO NET/Socket : 1 interfaces found\u001b[0m\n",
      "\u001b[31mNCCL version 2.2.13+cuda9.0\n",
      "\u001b[0m\n",
      "\u001b[31malgo-2:39:50 [0] misc/ibvwrap.cu:61 WARN Failed to open libibverbs.so[.1]\u001b[0m\n",
      "\u001b[31malgo-2:39:50 [0] INFO Using internal Network Socket\u001b[0m\n",
      "\u001b[31malgo-2:39:50 [0] INFO Using NCCL Low-latency algorithm for sizes below 16384\u001b[0m\n",
      "\u001b[31malgo-1:32:43 [0] INFO comm 0x7f5e641d9d90 rank 0 nranks 2\u001b[0m\n",
      "\u001b[31malgo-2:39:50 [0] INFO comm 0x7fc2581d91d0 rank 1 nranks 2\u001b[0m\n",
      "\u001b[31malgo-2:39:50 [0] INFO NET : Using interface ethwe:10.40.0.3<0>\u001b[0m\n",
      "\u001b[31malgo-2:39:50 [0] INFO NET/Socket : 1 interfaces found\u001b[0m\n",
      "\u001b[31malgo-1:32:43 [0] INFO Using 256 threads\u001b[0m\n",
      "\u001b[31malgo-1:32:43 [0] INFO Min Comp Cap 7\u001b[0m\n",
      "\u001b[31malgo-1:32:43 [0] INFO NCCL_SINGLE_RING_THRESHOLD=262144\u001b[0m\n",
      "\u001b[31malgo-1:32:43 [0] INFO Ring 00 :    0   1\u001b[0m\n",
      "\u001b[31malgo-1:32:43 [0] INFO 1 -> 0 via NET/Socket/0\u001b[0m\n",
      "\u001b[31malgo-2:39:50 [0] INFO 0 -> 1 via NET/Socket/0\u001b[0m\n",
      "\u001b[31malgo-1:32:43 [0] INFO Launch mode Parallel\u001b[0m\n",
      "\u001b[31m - 51s - loss: 1.8864 - acc: 0.3054 - val_loss: 1.6781 - val_acc: 0.3892\u001b[0m\n",
      "\u001b[31mEpoch 2/20\n",
      " - 51s - loss: 1.8728 - acc: 0.3127 - val_loss: 1.5853 - val_acc: 0.4337\u001b[0m\n",
      "\u001b[31mEpoch 2/20\u001b[0m\n",
      "\u001b[31m - 40s - loss: 1.5715 - acc: 0.4283 - val_loss: 1.4314 - val_acc: 0.4888\u001b[0m\n",
      "\u001b[31mEpoch 3/20\n",
      " - 40s - loss: 1.5782 - acc: 0.4238 - val_loss: 1.5414 - val_acc: 0.4523\u001b[0m\n",
      "\u001b[31mEpoch 3/20\u001b[0m\n",
      "\u001b[31m - 42s - loss: 1.4440 - acc: 0.4770 - val_loss: 1.3383 - val_acc: 0.5170\u001b[0m\n",
      "\u001b[31mEpoch 4/20\n",
      " - 42s - loss: 1.4578 - acc: 0.4743 - val_loss: 1.3410 - val_acc: 0.5225\u001b[0m\n",
      "\u001b[31mEpoch 4/20\u001b[0m\n",
      "\u001b[31m - 42s - loss: 1.3681 - acc: 0.5105 - val_loss: 1.3066 - val_acc: 0.5380\u001b[0m\n",
      "\u001b[31mEpoch 5/20\n",
      " - 42s - loss: 1.3527 - acc: 0.5159 - val_loss: 1.2971 - val_acc: 0.5419\u001b[0m\n",
      "\u001b[31mEpoch 5/20\u001b[0m\n",
      "\u001b[31m - 42s - loss: 1.2946 - acc: 0.5371 - val_loss: 1.1817 - val_acc: 0.5839\u001b[0m\n",
      "\u001b[31mEpoch 6/20\n",
      " - 42s - loss: 1.2900 - acc: 0.5395 - val_loss: 1.1929 - val_acc: 0.5774\u001b[0m\n",
      "\u001b[31mEpoch 6/20\u001b[0m\n",
      "\u001b[31m - 42s - loss: 1.2345 - acc: 0.5627 - val_loss: 1.1940 - val_acc: 0.5778\u001b[0m\n",
      "\u001b[31mEpoch 7/20\n",
      " - 42s - loss: 1.2326 - acc: 0.5616 - val_loss: 1.1560 - val_acc: 0.5911\u001b[0m\n",
      "\u001b[31mEpoch 7/20\u001b[0m\n",
      "\u001b[31m - 42s - loss: 1.1828 - acc: 0.5829 - val_loss: 1.0826 - val_acc: 0.6217\u001b[0m\n",
      "\u001b[31mEpoch 8/20\n",
      " - 42s - loss: 1.1843 - acc: 0.5803 - val_loss: 1.0968 - val_acc: 0.6156\u001b[0m\n",
      "\u001b[31mEpoch 8/20\u001b[0m\n",
      "\u001b[31m - 42s - loss: 1.1342 - acc: 0.6006 - val_loss: 1.0493 - val_acc: 0.6312\u001b[0m\n",
      "\u001b[31mEpoch 9/20\n",
      " - 42s - loss: 1.1371 - acc: 0.5964 - val_loss: 1.0630 - val_acc: 0.6283\u001b[0m\n",
      "\u001b[31mEpoch 9/20\u001b[0m\n",
      "\u001b[31m - 42s - loss: 1.0979 - acc: 0.6121 - val_loss: 1.0231 - val_acc: 0.6394\u001b[0m\n",
      "\u001b[31mEpoch 10/20\n",
      " - 42s - loss: 1.0968 - acc: 0.6128 - val_loss: 1.0330 - val_acc: 0.6394\u001b[0m\n",
      "\u001b[31mEpoch 10/20\u001b[0m\n",
      "\u001b[31m - 42s - loss: 1.0637 - acc: 0.6245 - val_loss: 1.0144 - val_acc: 0.6392\u001b[0m\n",
      "\u001b[31mEpoch 11/20\n",
      " - 43s - loss: 1.0680 - acc: 0.6237 - val_loss: 1.0137 - val_acc: 0.6430\u001b[0m\n",
      "\u001b[31mEpoch 11/20\u001b[0m\n",
      "\u001b[31m - 43s - loss: 1.0326 - acc: 0.6387 - val_loss: 1.0047 - val_acc: 0.6435\u001b[0m\n",
      "\u001b[31mEpoch 12/20\n",
      " - 43s - loss: 1.0352 - acc: 0.6350 - val_loss: 1.0804 - val_acc: 0.6283\u001b[0m\n",
      "\u001b[31mEpoch 12/20\u001b[0m\n",
      "\u001b[31m - 43s - loss: 1.0042 - acc: 0.6483 - val_loss: 1.0129 - val_acc: 0.6426\u001b[0m\n",
      "\u001b[31mEpoch 13/20\n",
      " - 43s - loss: 1.0073 - acc: 0.6463 - val_loss: 1.0435 - val_acc: 0.6385\u001b[0m\n",
      "\u001b[31mEpoch 13/20\u001b[0m\n",
      "\u001b[31m - 43s - loss: 0.9844 - acc: 0.6525 - val_loss: 0.9546 - val_acc: 0.6694\u001b[0m\n",
      "\u001b[31mEpoch 14/20\n",
      " - 43s - loss: 0.9835 - acc: 0.6563 - val_loss: 0.9751 - val_acc: 0.6613\u001b[0m\n",
      "\u001b[31mEpoch 14/20\u001b[0m\n",
      "\u001b[31m - 44s - loss: 0.9635 - acc: 0.6614 - val_loss: 0.9157 - val_acc: 0.6804\u001b[0m\n",
      "\u001b[31mEpoch 15/20\n",
      " - 44s - loss: 0.9586 - acc: 0.6621 - val_loss: 0.9182 - val_acc: 0.6804\u001b[0m\n",
      "\u001b[31mEpoch 15/20\u001b[0m\n",
      "\u001b[31m - 43s - loss: 0.9407 - acc: 0.6696 - val_loss: 0.8903 - val_acc: 0.6948\u001b[0m\n",
      "\u001b[31mEpoch 16/20\n",
      " - 43s - loss: 0.9389 - acc: 0.6718 - val_loss: 0.8889 - val_acc: 0.6902\u001b[0m\n",
      "\u001b[31mEpoch 16/20\u001b[0m\n",
      "\u001b[31m - 44s - loss: 0.9218 - acc: 0.6761 - val_loss: 0.8768 - val_acc: 0.6950\u001b[0m\n",
      "\u001b[31mEpoch 17/20\n",
      " - 44s - loss: 0.9197 - acc: 0.6799 - val_loss: 0.8750 - val_acc: 0.6989\u001b[0m\n",
      "\u001b[31mEpoch 17/20\u001b[0m\n",
      "\u001b[31m - 43s - loss: 0.9072 - acc: 0.6818 - val_loss: 0.8583 - val_acc: 0.7051\u001b[0m\n",
      "\u001b[31mEpoch 18/20\n",
      " - 43s - loss: 0.9045 - acc: 0.6838 - val_loss: 0.8796 - val_acc: 0.6934\u001b[0m\n",
      "\u001b[31mEpoch 18/20\u001b[0m\n",
      "\u001b[31m - 43s - loss: 0.8912 - acc: 0.6909 - val_loss: 0.8471 - val_acc: 0.7083\u001b[0m\n",
      "\u001b[31mEpoch 19/20\n",
      " - 43s - loss: 0.8921 - acc: 0.6896 - val_loss: 0.8546 - val_acc: 0.7033\u001b[0m\n",
      "\u001b[31mEpoch 19/20\u001b[0m\n",
      "\u001b[31m - 42s - loss: 0.8799 - acc: 0.6941 - val_loss: 0.8492 - val_acc: 0.7097\u001b[0m\n",
      "\u001b[31mEpoch 20/20\n",
      " - 42s - loss: 0.8808 - acc: 0.6913 - val_loss: 0.8731 - val_acc: 0.6973\u001b[0m\n",
      "\u001b[31mEpoch 20/20\u001b[0m\n",
      "\u001b[31m - 42s - loss: 0.8658 - acc: 0.6987 - val_loss: 0.8501 - val_acc: 0.7070\n",
      " - 42s - loss: 0.8673 - acc: 0.6957 - val_loss: 0.8174 - val_acc: 0.7153\u001b[0m\n",
      "\u001b[31mSaved trained model at /opt/ml/output/data/keras_model.h5 \u001b[0m\n",
      "\u001b[32mTraining process on worker node algo-2 -- Stopped\u001b[0m\n"
     ]
    },
    {
     "name": "stdout",
     "output_type": "stream",
     "text": [
      "\n",
      "Billable seconds: 2084\n"
     ]
    }
   ],
   "source": [
    "# Start training\n",
    "horovod_estimator.fit(channels)"
   ]
  }
 ],
 "metadata": {
  "kernelspec": {
   "display_name": "conda_python2",
   "language": "python",
   "name": "conda_python2"
  },
  "language_info": {
   "codemirror_mode": {
    "name": "ipython",
    "version": 2
   },
   "file_extension": ".py",
   "mimetype": "text/x-python",
   "name": "python",
   "nbconvert_exporter": "python",
   "pygments_lexer": "ipython2",
   "version": "2.7.15"
  }
 },
 "nbformat": 4,
 "nbformat_minor": 2
}
