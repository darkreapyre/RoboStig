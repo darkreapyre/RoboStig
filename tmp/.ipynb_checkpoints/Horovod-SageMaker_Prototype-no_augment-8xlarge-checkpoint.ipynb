{
 "cells": [
  {
   "cell_type": "code",
   "execution_count": null,
   "metadata": {},
   "outputs": [],
   "source": [
    "import os\n",
    "import sys\n",
    "import tarfile\n",
    "from six.moves import urllib\n",
    "from ipywidgets import FloatProgress\n",
    "from IPython.display import display\n",
    "\n",
    "DATA_URL = 'https://www.cs.toronto.edu/~kriz/cifar-10-python.tar.gz'\n",
    "\n",
    "\n",
    "def cifar10_download(data_dir='/tmp/cifar10_data', print_progress=True):\n",
    "    \"\"\"Download and extract the tarball from Alex's website.\"\"\"\n",
    "    if not os.path.exists(data_dir):\n",
    "        os.makedirs(data_dir)\n",
    "\n",
    "    if os.path.exists(os.path.join(data_dir, 'cifar-10-batches-py')):\n",
    "        print('cifar dataset already downloaded')\n",
    "        return\n",
    "\n",
    "    filename = DATA_URL.split('/')[-1]\n",
    "    filepath = os.path.join(data_dir, filename)\n",
    "\n",
    "    if not os.path.exists(filepath):\n",
    "        f = FloatProgress(min=0, max=100)\n",
    "        display(f)\n",
    "        sys.stdout.write('\\r>> Downloading %s ' % (filename))        \n",
    "\n",
    "        def _progress(count, block_size, total_size):\n",
    "            if print_progress:\n",
    "                f.value = 100.0 * count * block_size / total_size\n",
    "\n",
    "        filepath, _ = urllib.request.urlretrieve(DATA_URL, filepath, _progress)\n",
    "        print()\n",
    "        statinfo = os.stat(filepath)\n",
    "        print('Successfully downloaded', filename, statinfo.st_size, 'bytes.')\n",
    "\n",
    "    tarfile.open(filepath, 'r:gz').extractall(data_dir)"
   ]
  },
  {
   "cell_type": "code",
   "execution_count": null,
   "metadata": {},
   "outputs": [],
   "source": [
    "import os\n",
    "import sagemaker\n",
    "from sagemaker import get_execution_role\n",
    "\n",
    "sagemaker_session = sagemaker.Session()\n",
    "\n",
    "role = get_execution_role()\n",
    "bucket = sagemaker_session.default_bucket()"
   ]
  },
  {
   "cell_type": "code",
   "execution_count": null,
   "metadata": {},
   "outputs": [],
   "source": [
    "# Download cifar10 datset\n",
    "cifar10_download()"
   ]
  },
  {
   "cell_type": "code",
   "execution_count": null,
   "metadata": {},
   "outputs": [],
   "source": [
    "# Upload to S3\n",
    "sagemaker_session.upload_data(path='/tmp/cifar10_data/cifar-10-batches-py', key_prefix='cifar10_data')"
   ]
  },
  {
   "cell_type": "code",
   "execution_count": null,
   "metadata": {},
   "outputs": [],
   "source": [
    "# Configure the hyperparameters from the instructor\n",
    "training_image = '500842391574.dkr.ecr.us-west-2.amazonaws.com/horovod:latest'\n",
    "#hosting_image = '<<TO BE TESTED>>'\n",
    "\n",
    "# Training data channel\n",
    "channels = {'training': 's3://'+bucket+'/cifar10_data'}\n",
    "\n",
    "# Optmized training parameters\n",
    "hyperparameters = {'learning_rate': .0001, 'epochs': 20, 'batch_size': 32}\n",
    "\n",
    "# Output of trained model\n",
    "output_location = \"s3://{}\".format(bucket)"
   ]
  },
  {
   "cell_type": "code",
   "execution_count": null,
   "metadata": {},
   "outputs": [],
   "source": [
    "from sagemaker.estimator import Estimator\n",
    "# SageMaker estimator\n",
    "horovod_estimator = Estimator(\n",
    "    training_image,\n",
    "    role=role,\n",
    "    output_path=output_location,\n",
    "    train_instance_count=2,\n",
    "    train_instance_type='ml.p3.8xlarge',\n",
    "    hyperparameters=hyperparameters,\n",
    "    sagemaker_session=sagemaker_session\n",
    ")"
   ]
  },
  {
   "cell_type": "code",
   "execution_count": null,
   "metadata": {
    "scrolled": false
   },
   "outputs": [],
   "source": [
    "# Start training\n",
    "horovod_estimator.fit(channels)"
   ]
  }
 ],
 "metadata": {
  "kernelspec": {
   "display_name": "conda_python2",
   "language": "python",
   "name": "conda_python2"
  },
  "language_info": {
   "codemirror_mode": {
    "name": "ipython",
    "version": 2
   },
   "file_extension": ".py",
   "mimetype": "text/x-python",
   "name": "python",
   "nbconvert_exporter": "python",
   "pygments_lexer": "ipython2",
   "version": "2.7.15"
  }
 },
 "nbformat": 4,
 "nbformat_minor": 2
}
